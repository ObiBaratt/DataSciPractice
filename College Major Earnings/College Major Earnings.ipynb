{
 "nbformat": 4,
 "nbformat_minor": 0,
 "metadata": {
  "colab": {
   "name": "College Major Earnings.ipynb",
   "provenance": [],
   "authorship_tag": "ABX9TyPNQpBsLV/ynh9WRwuJP6co"
  },
  "kernelspec": {
   "name": "python3",
   "display_name": "Python 3"
  },
  "language_info": {
   "name": "python"
  }
 },
 "cells": [
  {
   "cell_type": "code",
   "execution_count": 22,
   "metadata": {
    "id": "gL3ND7vXMny_",
    "executionInfo": {
     "status": "ok",
     "timestamp": 1654556063328,
     "user_tz": 420,
     "elapsed": 175,
     "user": {
      "displayName": "Obi Baratt",
      "userId": "03400041742765301980"
     }
    },
    "pycharm": {
     "name": "#%%\n"
    }
   },
   "outputs": [],
   "source": [
    "import pandas as pd\n",
    "df = pd.read_csv('salaries_by_college_major.csv')\n",
    "df = df.dropna()"
   ]
  },
  {
   "cell_type": "code",
   "source": [
    "df.shape"
   ],
   "metadata": {
    "colab": {
     "base_uri": "https://localhost:8080/"
    },
    "id": "dFbXxYSZNmmN",
    "executionInfo": {
     "status": "ok",
     "timestamp": 1654556039485,
     "user_tz": 420,
     "elapsed": 8,
     "user": {
      "displayName": "Obi Baratt",
      "userId": "03400041742765301980"
     }
    },
    "outputId": "b8faa77f-4db9-412d-f217-a23ad6ea5646",
    "pycharm": {
     "name": "#%%\n"
    }
   },
   "execution_count": 23,
   "outputs": [
    {
     "data": {
      "text/plain": "(50, 6)"
     },
     "execution_count": 23,
     "metadata": {},
     "output_type": "execute_result"
    }
   ]
  },
  {
   "cell_type": "code",
   "source": [
    "df.columns"
   ],
   "metadata": {
    "colab": {
     "base_uri": "https://localhost:8080/"
    },
    "id": "PkZXe0HnNubs",
    "executionInfo": {
     "status": "ok",
     "timestamp": 1654556041053,
     "user_tz": 420,
     "elapsed": 7,
     "user": {
      "displayName": "Obi Baratt",
      "userId": "03400041742765301980"
     }
    },
    "outputId": "cb95c67f-c77b-4857-931d-b6bed4e0158e",
    "pycharm": {
     "name": "#%%\n"
    }
   },
   "execution_count": 3,
   "outputs": [
    {
     "data": {
      "text/plain": "Index(['Undergraduate Major', 'Starting Median Salary',\n       'Mid-Career Median Salary', 'Mid-Career 10th Percentile Salary',\n       'Mid-Career 90th Percentile Salary', 'Group'],\n      dtype='object')"
     },
     "execution_count": 3,
     "metadata": {},
     "output_type": "execute_result"
    }
   ]
  },
  {
   "cell_type": "code",
   "source": [
    "df.tail()"
   ],
   "metadata": {
    "colab": {
     "base_uri": "https://localhost:8080/",
     "height": 285
    },
    "id": "qo36mgNCOCgM",
    "executionInfo": {
     "status": "ok",
     "timestamp": 1654556071981,
     "user_tz": 420,
     "elapsed": 294,
     "user": {
      "displayName": "Obi Baratt",
      "userId": "03400041742765301980"
     }
    },
    "outputId": "c4bcb696-a711-42da-d489-bf8c5b534c0a",
    "pycharm": {
     "name": "#%%\n"
    }
   },
   "execution_count": 4,
   "outputs": [
    {
     "data": {
      "text/plain": "   Undergraduate Major  Starting Median Salary  Mid-Career Median Salary  \\\n45   Political Science                 40800.0                   78200.0   \n46          Psychology                 35900.0                   60400.0   \n47            Religion                 34100.0                   52000.0   \n48           Sociology                 36500.0                   58200.0   \n49             Spanish                 34000.0                   53100.0   \n\n    Mid-Career 10th Percentile Salary  Mid-Career 90th Percentile Salary Group  \n45                            41200.0                           168000.0  HASS  \n46                            31600.0                           127000.0  HASS  \n47                            29700.0                            96400.0  HASS  \n48                            30700.0                           118000.0  HASS  \n49                            31000.0                            96400.0  HASS  ",
      "text/html": "<div>\n<style scoped>\n    .dataframe tbody tr th:only-of-type {\n        vertical-align: middle;\n    }\n\n    .dataframe tbody tr th {\n        vertical-align: top;\n    }\n\n    .dataframe thead th {\n        text-align: right;\n    }\n</style>\n<table border=\"1\" class=\"dataframe\">\n  <thead>\n    <tr style=\"text-align: right;\">\n      <th></th>\n      <th>Undergraduate Major</th>\n      <th>Starting Median Salary</th>\n      <th>Mid-Career Median Salary</th>\n      <th>Mid-Career 10th Percentile Salary</th>\n      <th>Mid-Career 90th Percentile Salary</th>\n      <th>Group</th>\n    </tr>\n  </thead>\n  <tbody>\n    <tr>\n      <th>45</th>\n      <td>Political Science</td>\n      <td>40800.0</td>\n      <td>78200.0</td>\n      <td>41200.0</td>\n      <td>168000.0</td>\n      <td>HASS</td>\n    </tr>\n    <tr>\n      <th>46</th>\n      <td>Psychology</td>\n      <td>35900.0</td>\n      <td>60400.0</td>\n      <td>31600.0</td>\n      <td>127000.0</td>\n      <td>HASS</td>\n    </tr>\n    <tr>\n      <th>47</th>\n      <td>Religion</td>\n      <td>34100.0</td>\n      <td>52000.0</td>\n      <td>29700.0</td>\n      <td>96400.0</td>\n      <td>HASS</td>\n    </tr>\n    <tr>\n      <th>48</th>\n      <td>Sociology</td>\n      <td>36500.0</td>\n      <td>58200.0</td>\n      <td>30700.0</td>\n      <td>118000.0</td>\n      <td>HASS</td>\n    </tr>\n    <tr>\n      <th>49</th>\n      <td>Spanish</td>\n      <td>34000.0</td>\n      <td>53100.0</td>\n      <td>31000.0</td>\n      <td>96400.0</td>\n      <td>HASS</td>\n    </tr>\n  </tbody>\n</table>\n</div>"
     },
     "execution_count": 4,
     "metadata": {},
     "output_type": "execute_result"
    }
   ]
  },
  {
   "cell_type": "code",
   "source": [
    "df['Starting Median Salary'].max()"
   ],
   "metadata": {
    "colab": {
     "base_uri": "https://localhost:8080/"
    },
    "id": "4hMEr6ElOIt-",
    "executionInfo": {
     "status": "ok",
     "timestamp": 1654556128946,
     "user_tz": 420,
     "elapsed": 197,
     "user": {
      "displayName": "Obi Baratt",
      "userId": "03400041742765301980"
     }
    },
    "outputId": "0f681314-0b2b-4dbd-fe09-0c9f5d76c8ca",
    "pycharm": {
     "name": "#%%\n"
    }
   },
   "execution_count": 5,
   "outputs": [
    {
     "data": {
      "text/plain": "74300.0"
     },
     "execution_count": 5,
     "metadata": {},
     "output_type": "execute_result"
    }
   ]
  },
  {
   "cell_type": "code",
   "source": [
    "df['Starting Median Salary'].idxmax()"
   ],
   "metadata": {
    "colab": {
     "base_uri": "https://localhost:8080/"
    },
    "id": "DDejaTPhOoRi",
    "executionInfo": {
     "status": "ok",
     "timestamp": 1654556149395,
     "user_tz": 420,
     "elapsed": 183,
     "user": {
      "displayName": "Obi Baratt",
      "userId": "03400041742765301980"
     }
    },
    "outputId": "15ede202-8ede-4fa4-f7f6-4e1d679f744e",
    "pycharm": {
     "name": "#%%\n"
    }
   },
   "execution_count": 6,
   "outputs": [
    {
     "data": {
      "text/plain": "43"
     },
     "execution_count": 6,
     "metadata": {},
     "output_type": "execute_result"
    }
   ]
  },
  {
   "cell_type": "code",
   "source": [
    "df['Undergraduate Major'][43]"
   ],
   "metadata": {
    "colab": {
     "base_uri": "https://localhost:8080/",
     "height": 35
    },
    "id": "G68ARmp1PKuW",
    "executionInfo": {
     "status": "ok",
     "timestamp": 1654556270477,
     "user_tz": 420,
     "elapsed": 222,
     "user": {
      "displayName": "Obi Baratt",
      "userId": "03400041742765301980"
     }
    },
    "outputId": "d6bd6bf9-c830-4a06-8aea-5937b8b489b1",
    "pycharm": {
     "name": "#%%\n"
    }
   },
   "execution_count": 7,
   "outputs": [
    {
     "data": {
      "text/plain": "'Physician Assistant'"
     },
     "execution_count": 7,
     "metadata": {},
     "output_type": "execute_result"
    }
   ]
  },
  {
   "cell_type": "code",
   "source": [
    "df.loc[43]"
   ],
   "metadata": {
    "colab": {
     "base_uri": "https://localhost:8080/"
    },
    "id": "VcIfgyjfO0R_",
    "executionInfo": {
     "status": "ok",
     "timestamp": 1654556274110,
     "user_tz": 420,
     "elapsed": 184,
     "user": {
      "displayName": "Obi Baratt",
      "userId": "03400041742765301980"
     }
    },
    "outputId": "4ec18c86-1f01-4b17-cf17-c365736f35f1",
    "pycharm": {
     "name": "#%%\n"
    }
   },
   "execution_count": 8,
   "outputs": [
    {
     "data": {
      "text/plain": "Undergraduate Major                  Physician Assistant\nStarting Median Salary                           74300.0\nMid-Career Median Salary                         91700.0\nMid-Career 10th Percentile Salary                66400.0\nMid-Career 90th Percentile Salary               124000.0\nGroup                                               STEM\nName: 43, dtype: object"
     },
     "execution_count": 8,
     "metadata": {},
     "output_type": "execute_result"
    }
   ]
  },
  {
   "cell_type": "code",
   "source": [
    "df['Mid-Career Median Salary'].max()"
   ],
   "metadata": {
    "colab": {
     "base_uri": "https://localhost:8080/"
    },
    "id": "dICJfSUjPkjf",
    "executionInfo": {
     "status": "ok",
     "timestamp": 1654556369339,
     "user_tz": 420,
     "elapsed": 10,
     "user": {
      "displayName": "Obi Baratt",
      "userId": "03400041742765301980"
     }
    },
    "outputId": "bef8f465-dbe2-451e-837d-aa441d3021d4",
    "pycharm": {
     "name": "#%%\n"
    }
   },
   "execution_count": 9,
   "outputs": [
    {
     "data": {
      "text/plain": "107000.0"
     },
     "execution_count": 9,
     "metadata": {},
     "output_type": "execute_result"
    }
   ]
  },
  {
   "cell_type": "code",
   "source": [
    "df['Mid-Career Median Salary'].idxmax()"
   ],
   "metadata": {
    "colab": {
     "base_uri": "https://localhost:8080/"
    },
    "id": "kwog3Xh-PeOV",
    "executionInfo": {
     "status": "ok",
     "timestamp": 1654556395085,
     "user_tz": 420,
     "elapsed": 190,
     "user": {
      "displayName": "Obi Baratt",
      "userId": "03400041742765301980"
     }
    },
    "outputId": "4623f396-1f89-4864-9c10-12a58ede9871",
    "pycharm": {
     "name": "#%%\n"
    }
   },
   "execution_count": 10,
   "outputs": [
    {
     "data": {
      "text/plain": "8"
     },
     "execution_count": 10,
     "metadata": {},
     "output_type": "execute_result"
    }
   ]
  },
  {
   "cell_type": "code",
   "source": [
    "df.loc[8]"
   ],
   "metadata": {
    "colab": {
     "base_uri": "https://localhost:8080/"
    },
    "id": "O2ObDw57Pp_f",
    "executionInfo": {
     "status": "ok",
     "timestamp": 1654556408346,
     "user_tz": 420,
     "elapsed": 6,
     "user": {
      "displayName": "Obi Baratt",
      "userId": "03400041742765301980"
     }
    },
    "outputId": "c8c7b6b1-ca02-445c-975d-8e198a655146",
    "pycharm": {
     "name": "#%%\n"
    }
   },
   "execution_count": 11,
   "outputs": [
    {
     "data": {
      "text/plain": "Undergraduate Major                  Chemical Engineering\nStarting Median Salary                            63200.0\nMid-Career Median Salary                         107000.0\nMid-Career 10th Percentile Salary                 71900.0\nMid-Career 90th Percentile Salary                194000.0\nGroup                                                STEM\nName: 8, dtype: object"
     },
     "execution_count": 11,
     "metadata": {},
     "output_type": "execute_result"
    }
   ]
  },
  {
   "cell_type": "code",
   "source": [
    "df['Starting Median Salary'].idxmin()"
   ],
   "metadata": {
    "colab": {
     "base_uri": "https://localhost:8080/"
    },
    "id": "Pu2AsKoIPzg2",
    "executionInfo": {
     "status": "ok",
     "timestamp": 1654556452137,
     "user_tz": 420,
     "elapsed": 185,
     "user": {
      "displayName": "Obi Baratt",
      "userId": "03400041742765301980"
     }
    },
    "outputId": "dde72ac1-5ccd-4640-93b2-152b0367996a",
    "pycharm": {
     "name": "#%%\n"
    }
   },
   "execution_count": 12,
   "outputs": [
    {
     "data": {
      "text/plain": "49"
     },
     "execution_count": 12,
     "metadata": {},
     "output_type": "execute_result"
    }
   ]
  },
  {
   "cell_type": "code",
   "source": [
    "df.loc[49]"
   ],
   "metadata": {
    "colab": {
     "base_uri": "https://localhost:8080/"
    },
    "id": "UwSsEF_ZP86H",
    "executionInfo": {
     "status": "ok",
     "timestamp": 1654556458877,
     "user_tz": 420,
     "elapsed": 7,
     "user": {
      "displayName": "Obi Baratt",
      "userId": "03400041742765301980"
     }
    },
    "outputId": "a3efa83c-9c5c-48ea-b072-b7e8d6e40747",
    "pycharm": {
     "name": "#%%\n"
    }
   },
   "execution_count": 13,
   "outputs": [
    {
     "data": {
      "text/plain": "Undergraduate Major                  Spanish\nStarting Median Salary               34000.0\nMid-Career Median Salary             53100.0\nMid-Career 10th Percentile Salary    31000.0\nMid-Career 90th Percentile Salary    96400.0\nGroup                                   HASS\nName: 49, dtype: object"
     },
     "execution_count": 13,
     "metadata": {},
     "output_type": "execute_result"
    }
   ]
  },
  {
   "cell_type": "code",
   "source": [
    "df['Mid-Career Median Salary'].idxmin()"
   ],
   "metadata": {
    "colab": {
     "base_uri": "https://localhost:8080/"
    },
    "id": "yA1d7LymP_22",
    "executionInfo": {
     "status": "ok",
     "timestamp": 1654556487666,
     "user_tz": 420,
     "elapsed": 179,
     "user": {
      "displayName": "Obi Baratt",
      "userId": "03400041742765301980"
     }
    },
    "outputId": "ce67b269-fa74-41da-b614-8b460ae60040",
    "pycharm": {
     "name": "#%%\n"
    }
   },
   "execution_count": 14,
   "outputs": [
    {
     "data": {
      "text/plain": "18"
     },
     "execution_count": 14,
     "metadata": {},
     "output_type": "execute_result"
    }
   ]
  },
  {
   "cell_type": "code",
   "source": [
    "df.loc[18]"
   ],
   "metadata": {
    "colab": {
     "base_uri": "https://localhost:8080/"
    },
    "id": "_V4yJnGYQG3e",
    "executionInfo": {
     "status": "ok",
     "timestamp": 1654556492248,
     "user_tz": 420,
     "elapsed": 6,
     "user": {
      "displayName": "Obi Baratt",
      "userId": "03400041742765301980"
     }
    },
    "outputId": "f9b0bf8a-cf81-4508-fa6e-c1ab9f27227b",
    "pycharm": {
     "name": "#%%\n"
    }
   },
   "execution_count": 15,
   "outputs": [
    {
     "data": {
      "text/plain": "Undergraduate Major                  Education\nStarting Median Salary                 34900.0\nMid-Career Median Salary               52000.0\nMid-Career 10th Percentile Salary      29300.0\nMid-Career 90th Percentile Salary     102000.0\nGroup                                     HASS\nName: 18, dtype: object"
     },
     "execution_count": 15,
     "metadata": {},
     "output_type": "execute_result"
    }
   ]
  },
  {
   "cell_type": "code",
   "source": [
    "spread_col = df['Mid-Career 90th Percentile Salary'] - df['Mid-Career 10th Percentile Salary']\n",
    "df.insert(1, \"Mid-Career Spread\", spread_col)"
   ],
   "metadata": {
    "id": "SYjf_T6UQH_D",
    "executionInfo": {
     "status": "ok",
     "timestamp": 1654556689804,
     "user_tz": 420,
     "elapsed": 192,
     "user": {
      "displayName": "Obi Baratt",
      "userId": "03400041742765301980"
     }
    },
    "pycharm": {
     "name": "#%%\n"
    }
   },
   "execution_count": 16,
   "outputs": []
  },
  {
   "cell_type": "code",
   "source": [
    "df.head()"
   ],
   "metadata": {
    "colab": {
     "base_uri": "https://localhost:8080/",
     "height": 319
    },
    "id": "E9tG6Kq-Q4OH",
    "executionInfo": {
     "status": "ok",
     "timestamp": 1654556920934,
     "user_tz": 420,
     "elapsed": 199,
     "user": {
      "displayName": "Obi Baratt",
      "userId": "03400041742765301980"
     }
    },
    "outputId": "f9f1fa6f-32a1-4091-d486-90fe792813d5",
    "pycharm": {
     "name": "#%%\n"
    }
   },
   "execution_count": 17,
   "outputs": [
    {
     "data": {
      "text/plain": "     Undergraduate Major  Mid-Career Spread  Starting Median Salary  \\\n0             Accounting           109800.0                 46000.0   \n1  Aerospace Engineering            96700.0                 57700.0   \n2            Agriculture           113700.0                 42600.0   \n3           Anthropology           104200.0                 36800.0   \n4           Architecture            85400.0                 41600.0   \n\n   Mid-Career Median Salary  Mid-Career 10th Percentile Salary  \\\n0                   77100.0                            42200.0   \n1                  101000.0                            64300.0   \n2                   71900.0                            36300.0   \n3                   61500.0                            33800.0   \n4                   76800.0                            50600.0   \n\n   Mid-Career 90th Percentile Salary     Group  \n0                           152000.0  Business  \n1                           161000.0      STEM  \n2                           150000.0  Business  \n3                           138000.0      HASS  \n4                           136000.0  Business  ",
      "text/html": "<div>\n<style scoped>\n    .dataframe tbody tr th:only-of-type {\n        vertical-align: middle;\n    }\n\n    .dataframe tbody tr th {\n        vertical-align: top;\n    }\n\n    .dataframe thead th {\n        text-align: right;\n    }\n</style>\n<table border=\"1\" class=\"dataframe\">\n  <thead>\n    <tr style=\"text-align: right;\">\n      <th></th>\n      <th>Undergraduate Major</th>\n      <th>Mid-Career Spread</th>\n      <th>Starting Median Salary</th>\n      <th>Mid-Career Median Salary</th>\n      <th>Mid-Career 10th Percentile Salary</th>\n      <th>Mid-Career 90th Percentile Salary</th>\n      <th>Group</th>\n    </tr>\n  </thead>\n  <tbody>\n    <tr>\n      <th>0</th>\n      <td>Accounting</td>\n      <td>109800.0</td>\n      <td>46000.0</td>\n      <td>77100.0</td>\n      <td>42200.0</td>\n      <td>152000.0</td>\n      <td>Business</td>\n    </tr>\n    <tr>\n      <th>1</th>\n      <td>Aerospace Engineering</td>\n      <td>96700.0</td>\n      <td>57700.0</td>\n      <td>101000.0</td>\n      <td>64300.0</td>\n      <td>161000.0</td>\n      <td>STEM</td>\n    </tr>\n    <tr>\n      <th>2</th>\n      <td>Agriculture</td>\n      <td>113700.0</td>\n      <td>42600.0</td>\n      <td>71900.0</td>\n      <td>36300.0</td>\n      <td>150000.0</td>\n      <td>Business</td>\n    </tr>\n    <tr>\n      <th>3</th>\n      <td>Anthropology</td>\n      <td>104200.0</td>\n      <td>36800.0</td>\n      <td>61500.0</td>\n      <td>33800.0</td>\n      <td>138000.0</td>\n      <td>HASS</td>\n    </tr>\n    <tr>\n      <th>4</th>\n      <td>Architecture</td>\n      <td>85400.0</td>\n      <td>41600.0</td>\n      <td>76800.0</td>\n      <td>50600.0</td>\n      <td>136000.0</td>\n      <td>Business</td>\n    </tr>\n  </tbody>\n</table>\n</div>"
     },
     "execution_count": 17,
     "metadata": {},
     "output_type": "execute_result"
    }
   ]
  },
  {
   "cell_type": "code",
   "source": [
    "low_risk = df.sort_values('Mid-Career Spread', ascending=False, )\n",
    "low_risk[['Undergraduate Major', 'Mid-Career Spread']].head()"
   ],
   "metadata": {
    "colab": {
     "base_uri": "https://localhost:8080/",
     "height": 206
    },
    "id": "BOYZot9ERwpR",
    "executionInfo": {
     "status": "ok",
     "timestamp": 1654556966698,
     "user_tz": 420,
     "elapsed": 205,
     "user": {
      "displayName": "Obi Baratt",
      "userId": "03400041742765301980"
     }
    },
    "outputId": "73179947-83b7-4eb3-c72c-710db9630d39",
    "pycharm": {
     "name": "#%%\n"
    }
   },
   "execution_count": 18,
   "outputs": [
    {
     "data": {
      "text/plain": "   Undergraduate Major  Mid-Career Spread\n17           Economics           159400.0\n22             Finance           147800.0\n37                Math           137800.0\n36           Marketing           132900.0\n42          Philosophy           132500.0",
      "text/html": "<div>\n<style scoped>\n    .dataframe tbody tr th:only-of-type {\n        vertical-align: middle;\n    }\n\n    .dataframe tbody tr th {\n        vertical-align: top;\n    }\n\n    .dataframe thead th {\n        text-align: right;\n    }\n</style>\n<table border=\"1\" class=\"dataframe\">\n  <thead>\n    <tr style=\"text-align: right;\">\n      <th></th>\n      <th>Undergraduate Major</th>\n      <th>Mid-Career Spread</th>\n    </tr>\n  </thead>\n  <tbody>\n    <tr>\n      <th>17</th>\n      <td>Economics</td>\n      <td>159400.0</td>\n    </tr>\n    <tr>\n      <th>22</th>\n      <td>Finance</td>\n      <td>147800.0</td>\n    </tr>\n    <tr>\n      <th>37</th>\n      <td>Math</td>\n      <td>137800.0</td>\n    </tr>\n    <tr>\n      <th>36</th>\n      <td>Marketing</td>\n      <td>132900.0</td>\n    </tr>\n    <tr>\n      <th>42</th>\n      <td>Philosophy</td>\n      <td>132500.0</td>\n    </tr>\n  </tbody>\n</table>\n</div>"
     },
     "execution_count": 18,
     "metadata": {},
     "output_type": "execute_result"
    }
   ]
  },
  {
   "cell_type": "code",
   "source": [
    "high_potential = df.sort_values('Mid-Career 90th Percentile Salary', ascending=False)\n",
    "high_potential[['Undergraduate Major', 'Mid-Career 90th Percentile Salary']].head()"
   ],
   "metadata": {
    "colab": {
     "base_uri": "https://localhost:8080/",
     "height": 206
    },
    "id": "S8QdWqcuRxD4",
    "executionInfo": {
     "status": "ok",
     "timestamp": 1654557130087,
     "user_tz": 420,
     "elapsed": 210,
     "user": {
      "displayName": "Obi Baratt",
      "userId": "03400041742765301980"
     }
    },
    "outputId": "20968e04-59d4-4887-8d5f-504b0302eb56",
    "pycharm": {
     "name": "#%%\n"
    }
   },
   "execution_count": 19,
   "outputs": [
    {
     "data": {
      "text/plain": "     Undergraduate Major  Mid-Career 90th Percentile Salary\n17             Economics                           210000.0\n22               Finance                           195000.0\n8   Chemical Engineering                           194000.0\n37                  Math                           183000.0\n44               Physics                           178000.0",
      "text/html": "<div>\n<style scoped>\n    .dataframe tbody tr th:only-of-type {\n        vertical-align: middle;\n    }\n\n    .dataframe tbody tr th {\n        vertical-align: top;\n    }\n\n    .dataframe thead th {\n        text-align: right;\n    }\n</style>\n<table border=\"1\" class=\"dataframe\">\n  <thead>\n    <tr style=\"text-align: right;\">\n      <th></th>\n      <th>Undergraduate Major</th>\n      <th>Mid-Career 90th Percentile Salary</th>\n    </tr>\n  </thead>\n  <tbody>\n    <tr>\n      <th>17</th>\n      <td>Economics</td>\n      <td>210000.0</td>\n    </tr>\n    <tr>\n      <th>22</th>\n      <td>Finance</td>\n      <td>195000.0</td>\n    </tr>\n    <tr>\n      <th>8</th>\n      <td>Chemical Engineering</td>\n      <td>194000.0</td>\n    </tr>\n    <tr>\n      <th>37</th>\n      <td>Math</td>\n      <td>183000.0</td>\n    </tr>\n    <tr>\n      <th>44</th>\n      <td>Physics</td>\n      <td>178000.0</td>\n    </tr>\n  </tbody>\n</table>\n</div>"
     },
     "execution_count": 19,
     "metadata": {},
     "output_type": "execute_result"
    }
   ]
  },
  {
   "cell_type": "code",
   "source": [
    "pd.options.display.float_format = '{:,.2f}'.format\n",
    "df.groupby('Group').mean()"
   ],
   "metadata": {
    "colab": {
     "base_uri": "https://localhost:8080/",
     "height": 253
    },
    "id": "HI0bmp2zSaYh",
    "executionInfo": {
     "status": "ok",
     "timestamp": 1654557393973,
     "user_tz": 420,
     "elapsed": 222,
     "user": {
      "displayName": "Obi Baratt",
      "userId": "03400041742765301980"
     }
    },
    "outputId": "6864d331-bde9-4b79-e824-bd22f08227b0",
    "pycharm": {
     "name": "#%%\n"
    }
   },
   "execution_count": 20,
   "outputs": [
    {
     "data": {
      "text/plain": "          Mid-Career Spread  Starting Median Salary  Mid-Career Median Salary  \\\nGroup                                                                           \nBusiness         103,958.33               44,633.33                 75,083.33   \nHASS              95,218.18               37,186.36                 62,968.18   \nSTEM             101,600.00               53,862.50                 90,812.50   \n\n          Mid-Career 10th Percentile Salary  Mid-Career 90th Percentile Salary  \nGroup                                                                           \nBusiness                          43,566.67                         147,525.00  \nHASS                              34,145.45                         129,363.64  \nSTEM                              56,025.00                         157,625.00  ",
      "text/html": "<div>\n<style scoped>\n    .dataframe tbody tr th:only-of-type {\n        vertical-align: middle;\n    }\n\n    .dataframe tbody tr th {\n        vertical-align: top;\n    }\n\n    .dataframe thead th {\n        text-align: right;\n    }\n</style>\n<table border=\"1\" class=\"dataframe\">\n  <thead>\n    <tr style=\"text-align: right;\">\n      <th></th>\n      <th>Mid-Career Spread</th>\n      <th>Starting Median Salary</th>\n      <th>Mid-Career Median Salary</th>\n      <th>Mid-Career 10th Percentile Salary</th>\n      <th>Mid-Career 90th Percentile Salary</th>\n    </tr>\n    <tr>\n      <th>Group</th>\n      <th></th>\n      <th></th>\n      <th></th>\n      <th></th>\n      <th></th>\n    </tr>\n  </thead>\n  <tbody>\n    <tr>\n      <th>Business</th>\n      <td>103,958.33</td>\n      <td>44,633.33</td>\n      <td>75,083.33</td>\n      <td>43,566.67</td>\n      <td>147,525.00</td>\n    </tr>\n    <tr>\n      <th>HASS</th>\n      <td>95,218.18</td>\n      <td>37,186.36</td>\n      <td>62,968.18</td>\n      <td>34,145.45</td>\n      <td>129,363.64</td>\n    </tr>\n    <tr>\n      <th>STEM</th>\n      <td>101,600.00</td>\n      <td>53,862.50</td>\n      <td>90,812.50</td>\n      <td>56,025.00</td>\n      <td>157,625.00</td>\n    </tr>\n  </tbody>\n</table>\n</div>"
     },
     "execution_count": 20,
     "metadata": {},
     "output_type": "execute_result"
    }
   ]
  },
  {
   "cell_type": "code",
   "source": [],
   "metadata": {
    "id": "Jsl5DoJDTPme",
    "pycharm": {
     "name": "#%%\n"
    }
   },
   "execution_count": null,
   "outputs": []
  }
 ]
}