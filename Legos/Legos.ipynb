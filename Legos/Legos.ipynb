{
 "cells": [
  {
   "cell_type": "markdown",
   "source": [
    "<h1>Lego Analysis</h1>\n",
    "\n",
    "<img src=\"assets/bricks.jpg\" width=\"900\" height=\"300\">"
   ],
   "metadata": {
    "collapsed": false,
    "pycharm": {
     "name": "#%% md\n"
    }
   }
  },
  {
   "cell_type": "markdown",
   "source": [
    "<h3>Imports</h3"
   ],
   "metadata": {
    "collapsed": false,
    "pycharm": {
     "name": "#%% md\n"
    }
   },
   "outputs": [
    {
     "ename": "SyntaxError",
     "evalue": "invalid syntax (276844659.py, line 1)",
     "output_type": "error",
     "traceback": [
      "\u001B[1;36m  Input \u001B[1;32mIn [1]\u001B[1;36m\u001B[0m\n\u001B[1;33m    <h3>Imports</h3\u001B[0m\n\u001B[1;37m    ^\u001B[0m\n\u001B[1;31mSyntaxError\u001B[0m\u001B[1;31m:\u001B[0m invalid syntax\n"
     ]
    }
   ],
   "execution_count": 1
  },
  {
   "cell_type": "code",
   "execution_count": 117,
   "outputs": [],
   "source": [
    "import pandas as pd\n",
    "import matplotlib.pyplot as plt"
   ],
   "metadata": {
    "collapsed": false,
    "pycharm": {
     "name": "#%%\n"
    }
   }
  },
  {
   "cell_type": "markdown",
   "source": [
    "<h3>Read CSV data to pandas dataframes.</h3>"
   ],
   "metadata": {
    "collapsed": false,
    "pycharm": {
     "name": "#%% md\n"
    }
   }
  },
  {
   "cell_type": "code",
   "execution_count": 118,
   "outputs": [],
   "source": [
    "colors = pd.read_csv('data/colors.csv')"
   ],
   "metadata": {
    "collapsed": false,
    "pycharm": {
     "name": "#%%\n"
    }
   }
  },
  {
   "cell_type": "markdown",
   "source": [
    "<h2>Color Data Exploration.</h2>"
   ],
   "metadata": {
    "collapsed": false,
    "pycharm": {
     "name": "#%% md\n"
    }
   }
  },
  {
   "cell_type": "code",
   "execution_count": 119,
   "outputs": [
    {
     "data": {
      "text/plain": "   id            name     rgb is_trans\n0  -1         Unknown  0033B2        f\n1   0           Black  05131D        f\n2   1            Blue  0055BF        f\n3   2           Green  237841        f\n4   3  Dark Turquoise  008F9B        f",
      "text/html": "<div>\n<style scoped>\n    .dataframe tbody tr th:only-of-type {\n        vertical-align: middle;\n    }\n\n    .dataframe tbody tr th {\n        vertical-align: top;\n    }\n\n    .dataframe thead th {\n        text-align: right;\n    }\n</style>\n<table border=\"1\" class=\"dataframe\">\n  <thead>\n    <tr style=\"text-align: right;\">\n      <th></th>\n      <th>id</th>\n      <th>name</th>\n      <th>rgb</th>\n      <th>is_trans</th>\n    </tr>\n  </thead>\n  <tbody>\n    <tr>\n      <th>0</th>\n      <td>-1</td>\n      <td>Unknown</td>\n      <td>0033B2</td>\n      <td>f</td>\n    </tr>\n    <tr>\n      <th>1</th>\n      <td>0</td>\n      <td>Black</td>\n      <td>05131D</td>\n      <td>f</td>\n    </tr>\n    <tr>\n      <th>2</th>\n      <td>1</td>\n      <td>Blue</td>\n      <td>0055BF</td>\n      <td>f</td>\n    </tr>\n    <tr>\n      <th>3</th>\n      <td>2</td>\n      <td>Green</td>\n      <td>237841</td>\n      <td>f</td>\n    </tr>\n    <tr>\n      <th>4</th>\n      <td>3</td>\n      <td>Dark Turquoise</td>\n      <td>008F9B</td>\n      <td>f</td>\n    </tr>\n  </tbody>\n</table>\n</div>"
     },
     "execution_count": 119,
     "metadata": {},
     "output_type": "execute_result"
    }
   ],
   "source": [
    "colors.head()"
   ],
   "metadata": {
    "collapsed": false,
    "pycharm": {
     "name": "#%%\n"
    }
   }
  },
  {
   "cell_type": "code",
   "execution_count": 120,
   "outputs": [
    {
     "data": {
      "text/plain": "135"
     },
     "execution_count": 120,
     "metadata": {},
     "output_type": "execute_result"
    }
   ],
   "source": [
    "colors['name'].nunique()"
   ],
   "metadata": {
    "collapsed": false,
    "pycharm": {
     "name": "#%%\n"
    }
   }
  },
  {
   "cell_type": "code",
   "execution_count": 121,
   "outputs": [
    {
     "data": {
      "text/plain": "f    107\nt     28\nName: is_trans, dtype: int64"
     },
     "execution_count": 121,
     "metadata": {},
     "output_type": "execute_result"
    }
   ],
   "source": [
    "colors.is_trans.value_counts()"
   ],
   "metadata": {
    "collapsed": false,
    "pycharm": {
     "name": "#%%\n"
    }
   }
  },
  {
   "cell_type": "markdown",
   "source": [
    "<h2>Lego Themes v.s. Sets</h2>\n",
    "<p>Lego themes include famous buildings, Harry Potter, Batman are groupings of sets which are for individual sale.</p>\n",
    "<img src=\"assets/lego_themes.png\" height=\"300\" width=\"900\">"
   ],
   "metadata": {
    "collapsed": false,
    "pycharm": {
     "name": "#%% md\n"
    }
   }
  },
  {
   "cell_type": "markdown",
   "source": [
    "<p>A Lego <strong>set</strong> is a box with a particular scene from a theme. A single theme generally has multiple sets.</p>\n",
    "<img src=\"assets/lego_sets.png\" height=\"300\" width=\"900\">"
   ],
   "metadata": {
    "collapsed": false,
    "pycharm": {
     "name": "#%% md\n"
    }
   }
  },
  {
   "cell_type": "code",
   "execution_count": 122,
   "outputs": [],
   "source": [
    "sets = pd.read_csv('data/sets.csv')"
   ],
   "metadata": {
    "collapsed": false,
    "pycharm": {
     "name": "#%%\n"
    }
   }
  },
  {
   "cell_type": "code",
   "execution_count": 123,
   "outputs": [
    {
     "data": {
      "text/plain": "set_num      15710\nname         15710\nyear         15710\ntheme_id     15710\nnum_parts    15710\ndtype: int64"
     },
     "execution_count": 123,
     "metadata": {},
     "output_type": "execute_result"
    }
   ],
   "source": [
    "sets.count()"
   ],
   "metadata": {
    "collapsed": false,
    "pycharm": {
     "name": "#%%\n"
    }
   }
  },
  {
   "cell_type": "code",
   "execution_count": 124,
   "outputs": [
    {
     "data": {
      "text/plain": "      set_num                               name  year  theme_id  num_parts\n9521  700.1-1         Extra-Large Gift Set (ABB)  1949       365        142\n9534  700.2-1               Large Gift Set (ABB)  1949       365        178\n9539  700.3-1              Medium Gift Set (ABB)  1949       365        142\n9544  700.A-1              Small Brick Set (ABB)  1949       371         24\n9545  700.B-1  Small Doors and Windows Set (ABB)  1949       371         12",
      "text/html": "<div>\n<style scoped>\n    .dataframe tbody tr th:only-of-type {\n        vertical-align: middle;\n    }\n\n    .dataframe tbody tr th {\n        vertical-align: top;\n    }\n\n    .dataframe thead th {\n        text-align: right;\n    }\n</style>\n<table border=\"1\" class=\"dataframe\">\n  <thead>\n    <tr style=\"text-align: right;\">\n      <th></th>\n      <th>set_num</th>\n      <th>name</th>\n      <th>year</th>\n      <th>theme_id</th>\n      <th>num_parts</th>\n    </tr>\n  </thead>\n  <tbody>\n    <tr>\n      <th>9521</th>\n      <td>700.1-1</td>\n      <td>Extra-Large Gift Set (ABB)</td>\n      <td>1949</td>\n      <td>365</td>\n      <td>142</td>\n    </tr>\n    <tr>\n      <th>9534</th>\n      <td>700.2-1</td>\n      <td>Large Gift Set (ABB)</td>\n      <td>1949</td>\n      <td>365</td>\n      <td>178</td>\n    </tr>\n    <tr>\n      <th>9539</th>\n      <td>700.3-1</td>\n      <td>Medium Gift Set (ABB)</td>\n      <td>1949</td>\n      <td>365</td>\n      <td>142</td>\n    </tr>\n    <tr>\n      <th>9544</th>\n      <td>700.A-1</td>\n      <td>Small Brick Set (ABB)</td>\n      <td>1949</td>\n      <td>371</td>\n      <td>24</td>\n    </tr>\n    <tr>\n      <th>9545</th>\n      <td>700.B-1</td>\n      <td>Small Doors and Windows Set (ABB)</td>\n      <td>1949</td>\n      <td>371</td>\n      <td>12</td>\n    </tr>\n  </tbody>\n</table>\n</div>"
     },
     "execution_count": 124,
     "metadata": {},
     "output_type": "execute_result"
    }
   ],
   "source": [
    "sets.sort_values('year').head()"
   ],
   "metadata": {
    "collapsed": false,
    "pycharm": {
     "name": "#%%\n"
    }
   }
  },
  {
   "cell_type": "code",
   "execution_count": 125,
   "outputs": [
    {
     "data": {
      "text/plain": "      set_num                               name  year  theme_id  num_parts\n9521  700.1-1         Extra-Large Gift Set (ABB)  1949       365        142\n9534  700.2-1               Large Gift Set (ABB)  1949       365        178\n9539  700.3-1              Medium Gift Set (ABB)  1949       365        142\n9544  700.A-1              Small Brick Set (ABB)  1949       371         24\n9545  700.B-1  Small Doors and Windows Set (ABB)  1949       371         12",
      "text/html": "<div>\n<style scoped>\n    .dataframe tbody tr th:only-of-type {\n        vertical-align: middle;\n    }\n\n    .dataframe tbody tr th {\n        vertical-align: top;\n    }\n\n    .dataframe thead th {\n        text-align: right;\n    }\n</style>\n<table border=\"1\" class=\"dataframe\">\n  <thead>\n    <tr style=\"text-align: right;\">\n      <th></th>\n      <th>set_num</th>\n      <th>name</th>\n      <th>year</th>\n      <th>theme_id</th>\n      <th>num_parts</th>\n    </tr>\n  </thead>\n  <tbody>\n    <tr>\n      <th>9521</th>\n      <td>700.1-1</td>\n      <td>Extra-Large Gift Set (ABB)</td>\n      <td>1949</td>\n      <td>365</td>\n      <td>142</td>\n    </tr>\n    <tr>\n      <th>9534</th>\n      <td>700.2-1</td>\n      <td>Large Gift Set (ABB)</td>\n      <td>1949</td>\n      <td>365</td>\n      <td>178</td>\n    </tr>\n    <tr>\n      <th>9539</th>\n      <td>700.3-1</td>\n      <td>Medium Gift Set (ABB)</td>\n      <td>1949</td>\n      <td>365</td>\n      <td>142</td>\n    </tr>\n    <tr>\n      <th>9544</th>\n      <td>700.A-1</td>\n      <td>Small Brick Set (ABB)</td>\n      <td>1949</td>\n      <td>371</td>\n      <td>24</td>\n    </tr>\n    <tr>\n      <th>9545</th>\n      <td>700.B-1</td>\n      <td>Small Doors and Windows Set (ABB)</td>\n      <td>1949</td>\n      <td>371</td>\n      <td>12</td>\n    </tr>\n  </tbody>\n</table>\n</div>"
     },
     "execution_count": 125,
     "metadata": {},
     "output_type": "execute_result"
    }
   ],
   "source": [
    "sets[sets['year'] == 1949]"
   ],
   "metadata": {
    "collapsed": false,
    "pycharm": {
     "name": "#%%\n"
    }
   }
  },
  {
   "cell_type": "code",
   "execution_count": 126,
   "outputs": [
    {
     "data": {
      "text/plain": "       set_num                      name  year  theme_id  num_parts\n11289  75290-1        Mos Eisley Cantina  2020       158          0\n5147   41430-1     Summer Fun Water Park  2020       494       1012\n11337  75550-1    Minions Kung Fu Battle  2021       689          0\n11335  75547-1  Minion Pilot in Training  2021       689          0\n11334  75546-1      Minions in Gru’s Lab  2021       689          0",
      "text/html": "<div>\n<style scoped>\n    .dataframe tbody tr th:only-of-type {\n        vertical-align: middle;\n    }\n\n    .dataframe tbody tr th {\n        vertical-align: top;\n    }\n\n    .dataframe thead th {\n        text-align: right;\n    }\n</style>\n<table border=\"1\" class=\"dataframe\">\n  <thead>\n    <tr style=\"text-align: right;\">\n      <th></th>\n      <th>set_num</th>\n      <th>name</th>\n      <th>year</th>\n      <th>theme_id</th>\n      <th>num_parts</th>\n    </tr>\n  </thead>\n  <tbody>\n    <tr>\n      <th>11289</th>\n      <td>75290-1</td>\n      <td>Mos Eisley Cantina</td>\n      <td>2020</td>\n      <td>158</td>\n      <td>0</td>\n    </tr>\n    <tr>\n      <th>5147</th>\n      <td>41430-1</td>\n      <td>Summer Fun Water Park</td>\n      <td>2020</td>\n      <td>494</td>\n      <td>1012</td>\n    </tr>\n    <tr>\n      <th>11337</th>\n      <td>75550-1</td>\n      <td>Minions Kung Fu Battle</td>\n      <td>2021</td>\n      <td>689</td>\n      <td>0</td>\n    </tr>\n    <tr>\n      <th>11335</th>\n      <td>75547-1</td>\n      <td>Minion Pilot in Training</td>\n      <td>2021</td>\n      <td>689</td>\n      <td>0</td>\n    </tr>\n    <tr>\n      <th>11334</th>\n      <td>75546-1</td>\n      <td>Minions in Gru’s Lab</td>\n      <td>2021</td>\n      <td>689</td>\n      <td>0</td>\n    </tr>\n  </tbody>\n</table>\n</div>"
     },
     "execution_count": 126,
     "metadata": {},
     "output_type": "execute_result"
    }
   ],
   "source": [
    "sets.sort_values('year').tail()"
   ],
   "metadata": {
    "collapsed": false,
    "pycharm": {
     "name": "#%%\n"
    }
   }
  },
  {
   "cell_type": "code",
   "execution_count": 127,
   "outputs": [
    {
     "data": {
      "text/plain": "        set_num                           name  year  theme_id  num_parts\n15004  BIGBOX-1  The Ultimate Battle for Chima  2015       571       9987\n11183   75192-1          UCS Millennium Falcon  2017       171       7541\n10551   71043-1                Hogwarts Castle  2018       246       6020\n295     10256-1                      Taj Mahal  2017       673       5923\n221     10189-1                      Taj Mahal  2008       673       5922",
      "text/html": "<div>\n<style scoped>\n    .dataframe tbody tr th:only-of-type {\n        vertical-align: middle;\n    }\n\n    .dataframe tbody tr th {\n        vertical-align: top;\n    }\n\n    .dataframe thead th {\n        text-align: right;\n    }\n</style>\n<table border=\"1\" class=\"dataframe\">\n  <thead>\n    <tr style=\"text-align: right;\">\n      <th></th>\n      <th>set_num</th>\n      <th>name</th>\n      <th>year</th>\n      <th>theme_id</th>\n      <th>num_parts</th>\n    </tr>\n  </thead>\n  <tbody>\n    <tr>\n      <th>15004</th>\n      <td>BIGBOX-1</td>\n      <td>The Ultimate Battle for Chima</td>\n      <td>2015</td>\n      <td>571</td>\n      <td>9987</td>\n    </tr>\n    <tr>\n      <th>11183</th>\n      <td>75192-1</td>\n      <td>UCS Millennium Falcon</td>\n      <td>2017</td>\n      <td>171</td>\n      <td>7541</td>\n    </tr>\n    <tr>\n      <th>10551</th>\n      <td>71043-1</td>\n      <td>Hogwarts Castle</td>\n      <td>2018</td>\n      <td>246</td>\n      <td>6020</td>\n    </tr>\n    <tr>\n      <th>295</th>\n      <td>10256-1</td>\n      <td>Taj Mahal</td>\n      <td>2017</td>\n      <td>673</td>\n      <td>5923</td>\n    </tr>\n    <tr>\n      <th>221</th>\n      <td>10189-1</td>\n      <td>Taj Mahal</td>\n      <td>2008</td>\n      <td>673</td>\n      <td>5922</td>\n    </tr>\n  </tbody>\n</table>\n</div>"
     },
     "execution_count": 127,
     "metadata": {},
     "output_type": "execute_result"
    }
   ],
   "source": [
    "sets.sort_values('num_parts', ascending=False).head()"
   ],
   "metadata": {
    "collapsed": false,
    "pycharm": {
     "name": "#%%\n"
    }
   }
  },
  {
   "cell_type": "code",
   "execution_count": 128,
   "outputs": [
    {
     "data": {
      "text/plain": "year\n1949     5\n1950     6\n1953     4\n1954    14\n1955    28\nName: set_num, dtype: int64"
     },
     "execution_count": 128,
     "metadata": {},
     "output_type": "execute_result"
    }
   ],
   "source": [
    "sets_by_year = sets.groupby('year').count()\n",
    "sets_by_year['set_num'].head()"
   ],
   "metadata": {
    "collapsed": false,
    "pycharm": {
     "name": "#%%\n"
    }
   }
  },
  {
   "cell_type": "code",
   "execution_count": 129,
   "outputs": [
    {
     "data": {
      "text/plain": "year\n2017    786\n2018    816\n2019    840\n2020    674\n2021      3\nName: set_num, dtype: int64"
     },
     "execution_count": 129,
     "metadata": {},
     "output_type": "execute_result"
    }
   ],
   "source": [
    "sets_by_year['set_num'].tail()"
   ],
   "metadata": {
    "collapsed": false,
    "pycharm": {
     "name": "#%%\n"
    }
   }
  },
  {
   "cell_type": "code",
   "execution_count": 130,
   "outputs": [
    {
     "data": {
      "text/plain": "year\n1949      5\n1950      6\n1953      4\n1954     14\n1955     28\n       ... \n2017    786\n2018    816\n2019    840\n2020    674\n2021      3\nName: set_num, Length: 71, dtype: int64"
     },
     "execution_count": 130,
     "metadata": {},
     "output_type": "execute_result"
    }
   ],
   "source": [
    "sets_by_year['set_num']"
   ],
   "metadata": {
    "collapsed": false,
    "pycharm": {
     "name": "#%%\n"
    }
   }
  },
  {
   "cell_type": "markdown",
   "source": [
    "<h5>Data from late 2020, so 2020 data is not yet complete and 2021 data is only confirmed releases at the time of data collection</h5>\n",
    "<p>Chart below has las two years (2020, 2021) of data removed to better show trend."
   ],
   "metadata": {
    "collapsed": false,
    "pycharm": {
     "name": "#%% md\n"
    }
   }
  },
  {
   "cell_type": "code",
   "execution_count": 131,
   "outputs": [
    {
     "data": {
      "text/plain": "[<matplotlib.lines.Line2D at 0x167f76598d0>]"
     },
     "execution_count": 131,
     "metadata": {},
     "output_type": "execute_result"
    },
    {
     "data": {
      "text/plain": "<Figure size 432x288 with 1 Axes>",
      "image/png": "[encoded data removed]"
     },
     "metadata": {
      "needs_background": "light"
     },
     "output_type": "display_data"
    }
   ],
   "source": [
    "plt.xlabel('Year')\n",
    "plt.ylabel('Unique Sets Sold')\n",
    "plt.title('Lego Sets by Year')\n",
    "plt.plot(sets_by_year.index[:-2], sets_by_year.set_num[:-2])"
   ],
   "metadata": {
    "collapsed": false,
    "pycharm": {
     "name": "#%%\n"
    }
   }
  },
  {
   "cell_type": "code",
   "execution_count": 132,
   "outputs": [],
   "source": [
    "themes_by_year = sets.groupby('year').agg({'theme_id': pd.Series.nunique})\n",
    "themes_by_year.rename(columns = {'theme_id': 'nr_themes'}, inplace=True)"
   ],
   "metadata": {
    "collapsed": false,
    "pycharm": {
     "name": "#%%\n"
    }
   }
  },
  {
   "cell_type": "code",
   "execution_count": 133,
   "outputs": [
    {
     "data": {
      "text/plain": "      nr_themes\nyear           \n1949          2\n1950          1\n1953          2\n1954          2\n1955          4",
      "text/html": "<div>\n<style scoped>\n    .dataframe tbody tr th:only-of-type {\n        vertical-align: middle;\n    }\n\n    .dataframe tbody tr th {\n        vertical-align: top;\n    }\n\n    .dataframe thead th {\n        text-align: right;\n    }\n</style>\n<table border=\"1\" class=\"dataframe\">\n  <thead>\n    <tr style=\"text-align: right;\">\n      <th></th>\n      <th>nr_themes</th>\n    </tr>\n    <tr>\n      <th>year</th>\n      <th></th>\n    </tr>\n  </thead>\n  <tbody>\n    <tr>\n      <th>1949</th>\n      <td>2</td>\n    </tr>\n    <tr>\n      <th>1950</th>\n      <td>1</td>\n    </tr>\n    <tr>\n      <th>1953</th>\n      <td>2</td>\n    </tr>\n    <tr>\n      <th>1954</th>\n      <td>2</td>\n    </tr>\n    <tr>\n      <th>1955</th>\n      <td>4</td>\n    </tr>\n  </tbody>\n</table>\n</div>"
     },
     "execution_count": 133,
     "metadata": {},
     "output_type": "execute_result"
    }
   ],
   "source": [
    "themes_by_year.head()"
   ],
   "metadata": {
    "collapsed": false,
    "pycharm": {
     "name": "#%%\n"
    }
   }
  },
  {
   "cell_type": "code",
   "execution_count": 134,
   "outputs": [
    {
     "data": {
      "text/plain": "      nr_themes\nyear           \n2017         89\n2018         93\n2019         78\n2020         82\n2021          1",
      "text/html": "<div>\n<style scoped>\n    .dataframe tbody tr th:only-of-type {\n        vertical-align: middle;\n    }\n\n    .dataframe tbody tr th {\n        vertical-align: top;\n    }\n\n    .dataframe thead th {\n        text-align: right;\n    }\n</style>\n<table border=\"1\" class=\"dataframe\">\n  <thead>\n    <tr style=\"text-align: right;\">\n      <th></th>\n      <th>nr_themes</th>\n    </tr>\n    <tr>\n      <th>year</th>\n      <th></th>\n    </tr>\n  </thead>\n  <tbody>\n    <tr>\n      <th>2017</th>\n      <td>89</td>\n    </tr>\n    <tr>\n      <th>2018</th>\n      <td>93</td>\n    </tr>\n    <tr>\n      <th>2019</th>\n      <td>78</td>\n    </tr>\n    <tr>\n      <th>2020</th>\n      <td>82</td>\n    </tr>\n    <tr>\n      <th>2021</th>\n      <td>1</td>\n    </tr>\n  </tbody>\n</table>\n</div>"
     },
     "execution_count": 134,
     "metadata": {},
     "output_type": "execute_result"
    }
   ],
   "source": [
    "themes_by_year.tail()"
   ],
   "metadata": {
    "collapsed": false,
    "pycharm": {
     "name": "#%%\n"
    }
   }
  },
  {
   "cell_type": "code",
   "execution_count": 135,
   "outputs": [
    {
     "data": {
      "text/plain": "[<matplotlib.lines.Line2D at 0x167f76bc820>]"
     },
     "execution_count": 135,
     "metadata": {},
     "output_type": "execute_result"
    },
    {
     "data": {
      "text/plain": "<Figure size 432x288 with 1 Axes>",
      "image/png": "[encoded data removed]"
     },
     "metadata": {
      "needs_background": "light"
     },
     "output_type": "display_data"
    }
   ],
   "source": [
    "plt.xlabel('Year')\n",
    "plt.ylabel('Unique Themes')\n",
    "plt.title('Lego Themes by Year')\n",
    "\n",
    "plt.plot(themes_by_year.index[:-2], themes_by_year.nr_themes[:-2])"
   ],
   "metadata": {
    "collapsed": false,
    "pycharm": {
     "name": "#%%\n"
    }
   }
  },
  {
   "cell_type": "code",
   "execution_count": 136,
   "outputs": [
    {
     "data": {
      "text/plain": "Text(0, 0.5, 'Number of Themes')"
     },
     "execution_count": 136,
     "metadata": {},
     "output_type": "execute_result"
    },
    {
     "data": {
      "text/plain": "<Figure size 576x720 with 2 Axes>",
      "image/png": "[encoded data removed]"
     },
     "metadata": {
      "needs_background": "light"
     },
     "output_type": "display_data"
    }
   ],
   "source": [
    "plt.figure(figsize=(8, 10))\n",
    "ax1 = plt.gca()\n",
    "ax2 = ax1.twinx()\n",
    "ax1.plot(sets_by_year['set_num'][:-2], 'g:')\n",
    "ax2.plot(themes_by_year[:-2], color='blue')\n",
    "ax1.set_xlabel('Year')\n",
    "ax1.set_ylabel('Number of Sets', color='green')\n",
    "ax2.set_ylabel('Number of Themes', color='blue')"
   ],
   "metadata": {
    "collapsed": false,
    "pycharm": {
     "name": "#%%\n"
    }
   }
  },
  {
   "cell_type": "markdown",
   "source": [],
   "metadata": {
    "collapsed": false,
    "pycharm": {
     "name": "#%% md\n"
    }
   }
  },
  {
   "cell_type": "code",
   "execution_count": 137,
   "outputs": [],
   "source": [
    "parts_per_set = sets.groupby('year').agg({'num_parts': pd.Series.mean})"
   ],
   "metadata": {
    "collapsed": false,
    "pycharm": {
     "name": "#%%\n"
    }
   }
  },
  {
   "cell_type": "code",
   "execution_count": 138,
   "outputs": [
    {
     "data": {
      "text/plain": "      num_parts\nyear           \n1949  99.600000\n1950   1.000000\n1953  13.500000\n1954  12.357143\n1955  36.607143",
      "text/html": "<div>\n<style scoped>\n    .dataframe tbody tr th:only-of-type {\n        vertical-align: middle;\n    }\n\n    .dataframe tbody tr th {\n        vertical-align: top;\n    }\n\n    .dataframe thead th {\n        text-align: right;\n    }\n</style>\n<table border=\"1\" class=\"dataframe\">\n  <thead>\n    <tr style=\"text-align: right;\">\n      <th></th>\n      <th>num_parts</th>\n    </tr>\n    <tr>\n      <th>year</th>\n      <th></th>\n    </tr>\n  </thead>\n  <tbody>\n    <tr>\n      <th>1949</th>\n      <td>99.600000</td>\n    </tr>\n    <tr>\n      <th>1950</th>\n      <td>1.000000</td>\n    </tr>\n    <tr>\n      <th>1953</th>\n      <td>13.500000</td>\n    </tr>\n    <tr>\n      <th>1954</th>\n      <td>12.357143</td>\n    </tr>\n    <tr>\n      <th>1955</th>\n      <td>36.607143</td>\n    </tr>\n  </tbody>\n</table>\n</div>"
     },
     "execution_count": 138,
     "metadata": {},
     "output_type": "execute_result"
    }
   ],
   "source": [
    "parts_per_set.head()"
   ],
   "metadata": {
    "collapsed": false,
    "pycharm": {
     "name": "#%%\n"
    }
   }
  },
  {
   "cell_type": "code",
   "execution_count": 139,
   "outputs": [
    {
     "data": {
      "text/plain": "       num_parts\nyear            \n2017  221.840967\n2018  213.618873\n2019  207.510714\n2020  259.732938\n2021    0.000000",
      "text/html": "<div>\n<style scoped>\n    .dataframe tbody tr th:only-of-type {\n        vertical-align: middle;\n    }\n\n    .dataframe tbody tr th {\n        vertical-align: top;\n    }\n\n    .dataframe thead th {\n        text-align: right;\n    }\n</style>\n<table border=\"1\" class=\"dataframe\">\n  <thead>\n    <tr style=\"text-align: right;\">\n      <th></th>\n      <th>num_parts</th>\n    </tr>\n    <tr>\n      <th>year</th>\n      <th></th>\n    </tr>\n  </thead>\n  <tbody>\n    <tr>\n      <th>2017</th>\n      <td>221.840967</td>\n    </tr>\n    <tr>\n      <th>2018</th>\n      <td>213.618873</td>\n    </tr>\n    <tr>\n      <th>2019</th>\n      <td>207.510714</td>\n    </tr>\n    <tr>\n      <th>2020</th>\n      <td>259.732938</td>\n    </tr>\n    <tr>\n      <th>2021</th>\n      <td>0.000000</td>\n    </tr>\n  </tbody>\n</table>\n</div>"
     },
     "execution_count": 139,
     "metadata": {},
     "output_type": "execute_result"
    }
   ],
   "source": [
    "parts_per_set.tail()"
   ],
   "metadata": {
    "collapsed": false,
    "pycharm": {
     "name": "#%%\n"
    }
   }
  },
  {
   "cell_type": "code",
   "execution_count": 140,
   "outputs": [
    {
     "data": {
      "text/plain": "<matplotlib.collections.PathCollection at 0x167f690c4c0>"
     },
     "execution_count": 140,
     "metadata": {},
     "output_type": "execute_result"
    },
    {
     "data": {
      "text/plain": "<Figure size 432x288 with 1 Axes>",
      "image/png": "[encoded data removed]"
     },
     "metadata": {
      "needs_background": "light"
     },
     "output_type": "display_data"
    }
   ],
   "source": [
    "y = parts_per_set.index[:-2]\n",
    "x = parts_per_set.num_parts[:-2]\n",
    "\n",
    "\n",
    "plt.xlabel('Year')\n",
    "plt.ylabel('Parts per Set')\n",
    "plt.title('Parts per Set per Year')\n",
    "\n",
    "plt.scatter(y,x)"
   ],
   "metadata": {
    "collapsed": false,
    "pycharm": {
     "name": "#%%\n"
    }
   }
  },
  {
   "cell_type": "markdown",
   "source": [
    "<h2>Sets per Lego Theme</h2>"
   ],
   "metadata": {
    "collapsed": false,
    "pycharm": {
     "name": "#%% md\n"
    }
   }
  },
  {
   "cell_type": "code",
   "execution_count": 141,
   "outputs": [],
   "source": [
    "set_themes = sets['theme_id'].value_counts()\n",
    "set_theme_count = pd.DataFrame({'id': set_themes.index,\n",
    "                                'set_count': set_themes.values})"
   ],
   "metadata": {
    "collapsed": false,
    "pycharm": {
     "name": "#%%\n"
    }
   }
  },
  {
   "cell_type": "code",
   "execution_count": 142,
   "outputs": [
    {
     "data": {
      "text/plain": "    id  set_count\n0  158        753\n1  501        656\n2  494        398\n3  435        356\n4  503        329",
      "text/html": "<div>\n<style scoped>\n    .dataframe tbody tr th:only-of-type {\n        vertical-align: middle;\n    }\n\n    .dataframe tbody tr th {\n        vertical-align: top;\n    }\n\n    .dataframe thead th {\n        text-align: right;\n    }\n</style>\n<table border=\"1\" class=\"dataframe\">\n  <thead>\n    <tr style=\"text-align: right;\">\n      <th></th>\n      <th>id</th>\n      <th>set_count</th>\n    </tr>\n  </thead>\n  <tbody>\n    <tr>\n      <th>0</th>\n      <td>158</td>\n      <td>753</td>\n    </tr>\n    <tr>\n      <th>1</th>\n      <td>501</td>\n      <td>656</td>\n    </tr>\n    <tr>\n      <th>2</th>\n      <td>494</td>\n      <td>398</td>\n    </tr>\n    <tr>\n      <th>3</th>\n      <td>435</td>\n      <td>356</td>\n    </tr>\n    <tr>\n      <th>4</th>\n      <td>503</td>\n      <td>329</td>\n    </tr>\n  </tbody>\n</table>\n</div>"
     },
     "execution_count": 142,
     "metadata": {},
     "output_type": "execute_result"
    }
   ],
   "source": [
    "set_theme_count.head()"
   ],
   "metadata": {
    "collapsed": false,
    "pycharm": {
     "name": "#%%\n"
    }
   }
  },
  {
   "cell_type": "markdown",
   "source": [
    "<h4>Database Schema</h4>\n",
    "<img src=\"assets/db_relations.png\" height=\"368\" width=\"670\">"
   ],
   "metadata": {
    "collapsed": false,
    "pycharm": {
     "name": "#%% md\n"
    }
   }
  },
  {
   "cell_type": "code",
   "execution_count": 143,
   "outputs": [],
   "source": [
    "themes = pd.read_csv('data/themes.csv')"
   ],
   "metadata": {
    "collapsed": false,
    "pycharm": {
     "name": "#%%\n"
    }
   }
  },
  {
   "cell_type": "code",
   "execution_count": 144,
   "outputs": [
    {
     "data": {
      "text/plain": "    id  set_count       name  parent_id\n0  158        753  Star Wars        NaN\n1  501        656       Gear        NaN\n2  494        398    Friends        NaN\n3  435        356    Ninjago        NaN\n4  503        329  Key Chain      501.0",
      "text/html": "<div>\n<style scoped>\n    .dataframe tbody tr th:only-of-type {\n        vertical-align: middle;\n    }\n\n    .dataframe tbody tr th {\n        vertical-align: top;\n    }\n\n    .dataframe thead th {\n        text-align: right;\n    }\n</style>\n<table border=\"1\" class=\"dataframe\">\n  <thead>\n    <tr style=\"text-align: right;\">\n      <th></th>\n      <th>id</th>\n      <th>set_count</th>\n      <th>name</th>\n      <th>parent_id</th>\n    </tr>\n  </thead>\n  <tbody>\n    <tr>\n      <th>0</th>\n      <td>158</td>\n      <td>753</td>\n      <td>Star Wars</td>\n      <td>NaN</td>\n    </tr>\n    <tr>\n      <th>1</th>\n      <td>501</td>\n      <td>656</td>\n      <td>Gear</td>\n      <td>NaN</td>\n    </tr>\n    <tr>\n      <th>2</th>\n      <td>494</td>\n      <td>398</td>\n      <td>Friends</td>\n      <td>NaN</td>\n    </tr>\n    <tr>\n      <th>3</th>\n      <td>435</td>\n      <td>356</td>\n      <td>Ninjago</td>\n      <td>NaN</td>\n    </tr>\n    <tr>\n      <th>4</th>\n      <td>503</td>\n      <td>329</td>\n      <td>Key Chain</td>\n      <td>501.0</td>\n    </tr>\n  </tbody>\n</table>\n</div>"
     },
     "execution_count": 144,
     "metadata": {},
     "output_type": "execute_result"
    }
   ],
   "source": [
    "merged_themes = pd.merge(set_theme_count, themes, on='id')\n",
    "merged_themes.head()"
   ],
   "metadata": {
    "collapsed": false,
    "pycharm": {
     "name": "#%%\n"
    }
   }
  },
  {
   "cell_type": "code",
   "execution_count": 156,
   "outputs": [
    {
     "data": {
      "text/plain": "<BarContainer object of 10 artists>"
     },
     "execution_count": 156,
     "metadata": {},
     "output_type": "execute_result"
    },
    {
     "data": {
      "text/plain": "<Figure size 720x576 with 1 Axes>",
      "image/png": "[encoded data removed]"
     },
     "metadata": {
      "needs_background": "light"
     },
     "output_type": "display_data"
    }
   ],
   "source": [
    "plt.figure(figsize=(10,8))\n",
    "plt.xticks(fontsize=14, rotation=45)\n",
    "plt.yticks(fontsize=14)\n",
    "plt.title('Lego Top 10 Themes by Set Count', fontsize=14)\n",
    "plt.ylabel('Number of Sets', fontsize=12)\n",
    "plt.xlabel('Theme Name', fontsize=12)\n",
    "\n",
    "plt.bar(merged_themes.name[:10], merged_themes.set_count[:10])"
   ],
   "metadata": {
    "collapsed": false,
    "pycharm": {
     "name": "#%%\n"
    }
   }
  },
  {
   "cell_type": "markdown",
   "source": [
    "<h3>Exploration of the Most Popular Theme (Star Wars)</h3>"
   ],
   "metadata": {
    "collapsed": false,
    "pycharm": {
     "name": "#%% md\n"
    }
   }
  },
  {
   "cell_type": "code",
   "execution_count": 157,
   "outputs": [
    {
     "data": {
      "text/plain": "      id       name  parent_id\n17    18  Star Wars        1.0\n150  158  Star Wars        NaN\n174  209  Star Wars      207.0\n211  261  Star Wars      258.0",
      "text/html": "<div>\n<style scoped>\n    .dataframe tbody tr th:only-of-type {\n        vertical-align: middle;\n    }\n\n    .dataframe tbody tr th {\n        vertical-align: top;\n    }\n\n    .dataframe thead th {\n        text-align: right;\n    }\n</style>\n<table border=\"1\" class=\"dataframe\">\n  <thead>\n    <tr style=\"text-align: right;\">\n      <th></th>\n      <th>id</th>\n      <th>name</th>\n      <th>parent_id</th>\n    </tr>\n  </thead>\n  <tbody>\n    <tr>\n      <th>17</th>\n      <td>18</td>\n      <td>Star Wars</td>\n      <td>1.0</td>\n    </tr>\n    <tr>\n      <th>150</th>\n      <td>158</td>\n      <td>Star Wars</td>\n      <td>NaN</td>\n    </tr>\n    <tr>\n      <th>174</th>\n      <td>209</td>\n      <td>Star Wars</td>\n      <td>207.0</td>\n    </tr>\n    <tr>\n      <th>211</th>\n      <td>261</td>\n      <td>Star Wars</td>\n      <td>258.0</td>\n    </tr>\n  </tbody>\n</table>\n</div>"
     },
     "execution_count": 157,
     "metadata": {},
     "output_type": "execute_result"
    }
   ],
   "source": [
    "themes[themes.name == 'Star Wars']"
   ],
   "metadata": {
    "collapsed": false,
    "pycharm": {
     "name": "#%%\n"
    }
   }
  },
  {
   "cell_type": "code",
   "execution_count": 158,
   "outputs": [
    {
     "data": {
      "text/plain": "       set_num                                name  year  theme_id  num_parts\n8786   65081-1  R2-D2 / C-3PO Droid Collectors Set  2002        18          1\n12051   8000-1                           Pit Droid  2000        18        223\n12058   8001-1                        Battle Droid  2000        18        336\n12066   8002-1                     Destroyer Droid  2000        18        567\n12071   8007-1                               C-3PO  2001        18        339\n12072   8008-1                        Stormtrooper  2001        18        360\n12073   8009-1                               R2-D2  2002        18        239\n12074   8010-1                         Darth Vader  2002        18        388\n12081   8011-1                          Jango Fett  2002        18        425\n12083   8012-1                  Super Battle Droid  2002        18        378\n15273  K8008-1      Darth Vader / Stormtrooper Kit  2002        18          0",
      "text/html": "<div>\n<style scoped>\n    .dataframe tbody tr th:only-of-type {\n        vertical-align: middle;\n    }\n\n    .dataframe tbody tr th {\n        vertical-align: top;\n    }\n\n    .dataframe thead th {\n        text-align: right;\n    }\n</style>\n<table border=\"1\" class=\"dataframe\">\n  <thead>\n    <tr style=\"text-align: right;\">\n      <th></th>\n      <th>set_num</th>\n      <th>name</th>\n      <th>year</th>\n      <th>theme_id</th>\n      <th>num_parts</th>\n    </tr>\n  </thead>\n  <tbody>\n    <tr>\n      <th>8786</th>\n      <td>65081-1</td>\n      <td>R2-D2 / C-3PO Droid Collectors Set</td>\n      <td>2002</td>\n      <td>18</td>\n      <td>1</td>\n    </tr>\n    <tr>\n      <th>12051</th>\n      <td>8000-1</td>\n      <td>Pit Droid</td>\n      <td>2000</td>\n      <td>18</td>\n      <td>223</td>\n    </tr>\n    <tr>\n      <th>12058</th>\n      <td>8001-1</td>\n      <td>Battle Droid</td>\n      <td>2000</td>\n      <td>18</td>\n      <td>336</td>\n    </tr>\n    <tr>\n      <th>12066</th>\n      <td>8002-1</td>\n      <td>Destroyer Droid</td>\n      <td>2000</td>\n      <td>18</td>\n      <td>567</td>\n    </tr>\n    <tr>\n      <th>12071</th>\n      <td>8007-1</td>\n      <td>C-3PO</td>\n      <td>2001</td>\n      <td>18</td>\n      <td>339</td>\n    </tr>\n    <tr>\n      <th>12072</th>\n      <td>8008-1</td>\n      <td>Stormtrooper</td>\n      <td>2001</td>\n      <td>18</td>\n      <td>360</td>\n    </tr>\n    <tr>\n      <th>12073</th>\n      <td>8009-1</td>\n      <td>R2-D2</td>\n      <td>2002</td>\n      <td>18</td>\n      <td>239</td>\n    </tr>\n    <tr>\n      <th>12074</th>\n      <td>8010-1</td>\n      <td>Darth Vader</td>\n      <td>2002</td>\n      <td>18</td>\n      <td>388</td>\n    </tr>\n    <tr>\n      <th>12081</th>\n      <td>8011-1</td>\n      <td>Jango Fett</td>\n      <td>2002</td>\n      <td>18</td>\n      <td>425</td>\n    </tr>\n    <tr>\n      <th>12083</th>\n      <td>8012-1</td>\n      <td>Super Battle Droid</td>\n      <td>2002</td>\n      <td>18</td>\n      <td>378</td>\n    </tr>\n    <tr>\n      <th>15273</th>\n      <td>K8008-1</td>\n      <td>Darth Vader / Stormtrooper Kit</td>\n      <td>2002</td>\n      <td>18</td>\n      <td>0</td>\n    </tr>\n  </tbody>\n</table>\n</div>"
     },
     "execution_count": 158,
     "metadata": {},
     "output_type": "execute_result"
    }
   ],
   "source": [
    "sets[sets.theme_id == 18]"
   ],
   "metadata": {
    "collapsed": false,
    "pycharm": {
     "name": "#%%\n"
    }
   }
  },
  {
   "cell_type": "code",
   "execution_count": 159,
   "outputs": [
    {
     "data": {
      "text/plain": "           set_num                                               name  year  \\\n850        11912-1                Star Wars: Build Your Own Adventure  2016   \n855        11920-1  Parts for Star Wars Build Your Own Adventure: ...  2019   \n1717       20006-1                            Clone Turbo Tank - Mini  2008   \n1728       20007-1                     Republic Attack Cruiser - Mini  2009   \n1738       20009-1                                AT-TE Walker - Mini  2009   \n...            ...                                                ...   ...   \n15686         VP-4            Star Wars Co-Pack of 7101 7111 and 7171  2000   \n15689         VP-8                 Star Wars Co-Pack of 7130 and 7150  2000   \n15707      XWING-1                                Mini X-Wing Fighter  2019   \n15708      XWING-2                                  X-Wing Trench Run  2019   \n15709  YODACHRON-1                    Yoda Chronicles Promotional Set  2013   \n\n       theme_id  num_parts  \n850         158         73  \n855         158         70  \n1717        158         64  \n1728        158         84  \n1738        158         94  \n...         ...        ...  \n15686       158          0  \n15689       158          0  \n15707       158         60  \n15708       158         52  \n15709       158        413  \n\n[753 rows x 5 columns]",
      "text/html": "<div>\n<style scoped>\n    .dataframe tbody tr th:only-of-type {\n        vertical-align: middle;\n    }\n\n    .dataframe tbody tr th {\n        vertical-align: top;\n    }\n\n    .dataframe thead th {\n        text-align: right;\n    }\n</style>\n<table border=\"1\" class=\"dataframe\">\n  <thead>\n    <tr style=\"text-align: right;\">\n      <th></th>\n      <th>set_num</th>\n      <th>name</th>\n      <th>year</th>\n      <th>theme_id</th>\n      <th>num_parts</th>\n    </tr>\n  </thead>\n  <tbody>\n    <tr>\n      <th>850</th>\n      <td>11912-1</td>\n      <td>Star Wars: Build Your Own Adventure</td>\n      <td>2016</td>\n      <td>158</td>\n      <td>73</td>\n    </tr>\n    <tr>\n      <th>855</th>\n      <td>11920-1</td>\n      <td>Parts for Star Wars Build Your Own Adventure: ...</td>\n      <td>2019</td>\n      <td>158</td>\n      <td>70</td>\n    </tr>\n    <tr>\n      <th>1717</th>\n      <td>20006-1</td>\n      <td>Clone Turbo Tank - Mini</td>\n      <td>2008</td>\n      <td>158</td>\n      <td>64</td>\n    </tr>\n    <tr>\n      <th>1728</th>\n      <td>20007-1</td>\n      <td>Republic Attack Cruiser - Mini</td>\n      <td>2009</td>\n      <td>158</td>\n      <td>84</td>\n    </tr>\n    <tr>\n      <th>1738</th>\n      <td>20009-1</td>\n      <td>AT-TE Walker - Mini</td>\n      <td>2009</td>\n      <td>158</td>\n      <td>94</td>\n    </tr>\n    <tr>\n      <th>...</th>\n      <td>...</td>\n      <td>...</td>\n      <td>...</td>\n      <td>...</td>\n      <td>...</td>\n    </tr>\n    <tr>\n      <th>15686</th>\n      <td>VP-4</td>\n      <td>Star Wars Co-Pack of 7101 7111 and 7171</td>\n      <td>2000</td>\n      <td>158</td>\n      <td>0</td>\n    </tr>\n    <tr>\n      <th>15689</th>\n      <td>VP-8</td>\n      <td>Star Wars Co-Pack of 7130 and 7150</td>\n      <td>2000</td>\n      <td>158</td>\n      <td>0</td>\n    </tr>\n    <tr>\n      <th>15707</th>\n      <td>XWING-1</td>\n      <td>Mini X-Wing Fighter</td>\n      <td>2019</td>\n      <td>158</td>\n      <td>60</td>\n    </tr>\n    <tr>\n      <th>15708</th>\n      <td>XWING-2</td>\n      <td>X-Wing Trench Run</td>\n      <td>2019</td>\n      <td>158</td>\n      <td>52</td>\n    </tr>\n    <tr>\n      <th>15709</th>\n      <td>YODACHRON-1</td>\n      <td>Yoda Chronicles Promotional Set</td>\n      <td>2013</td>\n      <td>158</td>\n      <td>413</td>\n    </tr>\n  </tbody>\n</table>\n<p>753 rows × 5 columns</p>\n</div>"
     },
     "execution_count": 159,
     "metadata": {},
     "output_type": "execute_result"
    }
   ],
   "source": [
    "sets[sets.theme_id == 158]"
   ],
   "metadata": {
    "collapsed": false,
    "pycharm": {
     "name": "#%%\n"
    }
   }
  },
  {
   "cell_type": "code",
   "execution_count": 160,
   "outputs": [
    {
     "data": {
      "text/plain": "       set_num                            name  year  theme_id  num_parts\n11013  75023-1  Star Wars Advent Calendar 2013  2013       209        254\n11046  75056-1  Star Wars Advent Calendar 2014  2014       209        273\n11080  75097-1  Star Wars Advent Calendar 2015  2015       209        291\n11131  75146-1  Star Wars Advent Calendar 2016  2016       209        282\n11173  75184-1  Star Wars Advent Calendar 2017  2017       209        309\n11206  75213-1  Star Wars Advent Calendar 2018  2018       209        307\n11245  75245-1  Star Wars Advent Calendar 2019  2019       209        280\n11281  75279-1  Star Wars Advent Calendar 2020  2020       209        312\n12019   7958-1  Star Wars Advent Calendar 2011  2011       209        267\n14352   9509-1  Star Wars Advent Calendar 2012  2012       209        235",
      "text/html": "<div>\n<style scoped>\n    .dataframe tbody tr th:only-of-type {\n        vertical-align: middle;\n    }\n\n    .dataframe tbody tr th {\n        vertical-align: top;\n    }\n\n    .dataframe thead th {\n        text-align: right;\n    }\n</style>\n<table border=\"1\" class=\"dataframe\">\n  <thead>\n    <tr style=\"text-align: right;\">\n      <th></th>\n      <th>set_num</th>\n      <th>name</th>\n      <th>year</th>\n      <th>theme_id</th>\n      <th>num_parts</th>\n    </tr>\n  </thead>\n  <tbody>\n    <tr>\n      <th>11013</th>\n      <td>75023-1</td>\n      <td>Star Wars Advent Calendar 2013</td>\n      <td>2013</td>\n      <td>209</td>\n      <td>254</td>\n    </tr>\n    <tr>\n      <th>11046</th>\n      <td>75056-1</td>\n      <td>Star Wars Advent Calendar 2014</td>\n      <td>2014</td>\n      <td>209</td>\n      <td>273</td>\n    </tr>\n    <tr>\n      <th>11080</th>\n      <td>75097-1</td>\n      <td>Star Wars Advent Calendar 2015</td>\n      <td>2015</td>\n      <td>209</td>\n      <td>291</td>\n    </tr>\n    <tr>\n      <th>11131</th>\n      <td>75146-1</td>\n      <td>Star Wars Advent Calendar 2016</td>\n      <td>2016</td>\n      <td>209</td>\n      <td>282</td>\n    </tr>\n    <tr>\n      <th>11173</th>\n      <td>75184-1</td>\n      <td>Star Wars Advent Calendar 2017</td>\n      <td>2017</td>\n      <td>209</td>\n      <td>309</td>\n    </tr>\n    <tr>\n      <th>11206</th>\n      <td>75213-1</td>\n      <td>Star Wars Advent Calendar 2018</td>\n      <td>2018</td>\n      <td>209</td>\n      <td>307</td>\n    </tr>\n    <tr>\n      <th>11245</th>\n      <td>75245-1</td>\n      <td>Star Wars Advent Calendar 2019</td>\n      <td>2019</td>\n      <td>209</td>\n      <td>280</td>\n    </tr>\n    <tr>\n      <th>11281</th>\n      <td>75279-1</td>\n      <td>Star Wars Advent Calendar 2020</td>\n      <td>2020</td>\n      <td>209</td>\n      <td>312</td>\n    </tr>\n    <tr>\n      <th>12019</th>\n      <td>7958-1</td>\n      <td>Star Wars Advent Calendar 2011</td>\n      <td>2011</td>\n      <td>209</td>\n      <td>267</td>\n    </tr>\n    <tr>\n      <th>14352</th>\n      <td>9509-1</td>\n      <td>Star Wars Advent Calendar 2012</td>\n      <td>2012</td>\n      <td>209</td>\n      <td>235</td>\n    </tr>\n  </tbody>\n</table>\n</div>"
     },
     "execution_count": 160,
     "metadata": {},
     "output_type": "execute_result"
    }
   ],
   "source": [
    "sets[sets.theme_id == 209] # Advent Calendars"
   ],
   "metadata": {
    "collapsed": false,
    "pycharm": {
     "name": "#%%\n"
    }
   }
  },
  {
   "cell_type": "code",
   "execution_count": 161,
   "outputs": [
    {
     "data": {
      "text/plain": "      set_num                      name  year  theme_id  num_parts\n14630  9748-1       Droid Developer Kit  1999       261        658\n14636  9754-1  Dark Side Developers Kit  2000       261        578",
      "text/html": "<div>\n<style scoped>\n    .dataframe tbody tr th:only-of-type {\n        vertical-align: middle;\n    }\n\n    .dataframe tbody tr th {\n        vertical-align: top;\n    }\n\n    .dataframe thead th {\n        text-align: right;\n    }\n</style>\n<table border=\"1\" class=\"dataframe\">\n  <thead>\n    <tr style=\"text-align: right;\">\n      <th></th>\n      <th>set_num</th>\n      <th>name</th>\n      <th>year</th>\n      <th>theme_id</th>\n      <th>num_parts</th>\n    </tr>\n  </thead>\n  <tbody>\n    <tr>\n      <th>14630</th>\n      <td>9748-1</td>\n      <td>Droid Developer Kit</td>\n      <td>1999</td>\n      <td>261</td>\n      <td>658</td>\n    </tr>\n    <tr>\n      <th>14636</th>\n      <td>9754-1</td>\n      <td>Dark Side Developers Kit</td>\n      <td>2000</td>\n      <td>261</td>\n      <td>578</td>\n    </tr>\n  </tbody>\n</table>\n</div>"
     },
     "execution_count": 161,
     "metadata": {},
     "output_type": "execute_result"
    }
   ],
   "source": [
    "sets[sets.theme_id == 261] # Theme of 2 developer sets"
   ],
   "metadata": {
    "collapsed": false,
    "pycharm": {
     "name": "#%%\n"
    }
   }
  },
  {
   "cell_type": "markdown",
   "source": [
    "The set count above seems to only have sets where theme_id = 158, not 18, 209, or 261 (though that only <em>adds</em> 23 more sets. Potentially other top sets have missing items? Let's see..."
   ],
   "metadata": {
    "collapsed": false,
    "pycharm": {
     "name": "#%% md\n"
    }
   }
  },
  {
   "cell_type": "code",
   "execution_count": 162,
   "outputs": [
    {
     "data": {
      "text/plain": "      id  name  parent_id\n407  501  Gear        NaN",
      "text/html": "<div>\n<style scoped>\n    .dataframe tbody tr th:only-of-type {\n        vertical-align: middle;\n    }\n\n    .dataframe tbody tr th {\n        vertical-align: top;\n    }\n\n    .dataframe thead th {\n        text-align: right;\n    }\n</style>\n<table border=\"1\" class=\"dataframe\">\n  <thead>\n    <tr style=\"text-align: right;\">\n      <th></th>\n      <th>id</th>\n      <th>name</th>\n      <th>parent_id</th>\n    </tr>\n  </thead>\n  <tbody>\n    <tr>\n      <th>407</th>\n      <td>501</td>\n      <td>Gear</td>\n      <td>NaN</td>\n    </tr>\n  </tbody>\n</table>\n</div>"
     },
     "execution_count": 162,
     "metadata": {},
     "output_type": "execute_result"
    }
   ],
   "source": [
    "themes[themes.name == 'Gear']"
   ],
   "metadata": {
    "collapsed": false,
    "pycharm": {
     "name": "#%%\n"
    }
   }
  },
  {
   "cell_type": "code",
   "execution_count": 168,
   "outputs": [
    {
     "data": {
      "text/plain": "           set_num                                          name  year  \\\n1048       13078-1                              Sports Bag, Pink  2008   \n1051       13098-1                    Pencil Case, Pink (Horses)  2008   \n1056       13148-1       Wheeled Carry-on Luggage, Pink (Horses)  2008   \n1787        2027-1                                Alpha Pen Pack  2000   \n2354      258175-1  Play and Build Remote for Nintendo Wii - Red  2010   \n...            ...                                           ...   ...   \n15555       pk1062                        Road Safety Kit Poster  1981   \n15558     PS3038-1             LEGO Star Wars: The Complete Saga  2007   \n15603  STATICKER-1                            Unikitty Staticker  2019   \n15610    SWDVDBD-1                            The Padawan Menace  2011   \n15692       W098-1                       Classic Blue Link Watch  2006   \n\n       theme_id  num_parts  \n1048        501          0  \n1051        501          0  \n1056        501          0  \n1787        501          0  \n2354        501          0  \n...         ...        ...  \n15555       501          0  \n15558       501          0  \n15603       501          0  \n15610       501          4  \n15692       501          0  \n\n[656 rows x 5 columns]",
      "text/html": "<div>\n<style scoped>\n    .dataframe tbody tr th:only-of-type {\n        vertical-align: middle;\n    }\n\n    .dataframe tbody tr th {\n        vertical-align: top;\n    }\n\n    .dataframe thead th {\n        text-align: right;\n    }\n</style>\n<table border=\"1\" class=\"dataframe\">\n  <thead>\n    <tr style=\"text-align: right;\">\n      <th></th>\n      <th>set_num</th>\n      <th>name</th>\n      <th>year</th>\n      <th>theme_id</th>\n      <th>num_parts</th>\n    </tr>\n  </thead>\n  <tbody>\n    <tr>\n      <th>1048</th>\n      <td>13078-1</td>\n      <td>Sports Bag, Pink</td>\n      <td>2008</td>\n      <td>501</td>\n      <td>0</td>\n    </tr>\n    <tr>\n      <th>1051</th>\n      <td>13098-1</td>\n      <td>Pencil Case, Pink (Horses)</td>\n      <td>2008</td>\n      <td>501</td>\n      <td>0</td>\n    </tr>\n    <tr>\n      <th>1056</th>\n      <td>13148-1</td>\n      <td>Wheeled Carry-on Luggage, Pink (Horses)</td>\n      <td>2008</td>\n      <td>501</td>\n      <td>0</td>\n    </tr>\n    <tr>\n      <th>1787</th>\n      <td>2027-1</td>\n      <td>Alpha Pen Pack</td>\n      <td>2000</td>\n      <td>501</td>\n      <td>0</td>\n    </tr>\n    <tr>\n      <th>2354</th>\n      <td>258175-1</td>\n      <td>Play and Build Remote for Nintendo Wii - Red</td>\n      <td>2010</td>\n      <td>501</td>\n      <td>0</td>\n    </tr>\n    <tr>\n      <th>...</th>\n      <td>...</td>\n      <td>...</td>\n      <td>...</td>\n      <td>...</td>\n      <td>...</td>\n    </tr>\n    <tr>\n      <th>15555</th>\n      <td>pk1062</td>\n      <td>Road Safety Kit Poster</td>\n      <td>1981</td>\n      <td>501</td>\n      <td>0</td>\n    </tr>\n    <tr>\n      <th>15558</th>\n      <td>PS3038-1</td>\n      <td>LEGO Star Wars: The Complete Saga</td>\n      <td>2007</td>\n      <td>501</td>\n      <td>0</td>\n    </tr>\n    <tr>\n      <th>15603</th>\n      <td>STATICKER-1</td>\n      <td>Unikitty Staticker</td>\n      <td>2019</td>\n      <td>501</td>\n      <td>0</td>\n    </tr>\n    <tr>\n      <th>15610</th>\n      <td>SWDVDBD-1</td>\n      <td>The Padawan Menace</td>\n      <td>2011</td>\n      <td>501</td>\n      <td>4</td>\n    </tr>\n    <tr>\n      <th>15692</th>\n      <td>W098-1</td>\n      <td>Classic Blue Link Watch</td>\n      <td>2006</td>\n      <td>501</td>\n      <td>0</td>\n    </tr>\n  </tbody>\n</table>\n<p>656 rows × 5 columns</p>\n</div>"
     },
     "execution_count": 168,
     "metadata": {},
     "output_type": "execute_result"
    }
   ],
   "source": [
    "sets[sets.theme_id == 501]"
   ],
   "metadata": {
    "collapsed": false,
    "pycharm": {
     "name": "#%%\n"
    }
   }
  },
  {
   "cell_type": "markdown",
   "source": [
    "Total: 656 sets as expected with only one theme_id."
   ],
   "metadata": {
    "collapsed": false,
    "pycharm": {
     "name": "#%% md\n"
    }
   }
  },
  {
   "cell_type": "code",
   "execution_count": 163,
   "outputs": [
    {
     "data": {
      "text/plain": "      id     name  parent_id\n181  216  Friends      207.0\n402  494  Friends        NaN\n492  595  Friends      591.0",
      "text/html": "<div>\n<style scoped>\n    .dataframe tbody tr th:only-of-type {\n        vertical-align: middle;\n    }\n\n    .dataframe tbody tr th {\n        vertical-align: top;\n    }\n\n    .dataframe thead th {\n        text-align: right;\n    }\n</style>\n<table border=\"1\" class=\"dataframe\">\n  <thead>\n    <tr style=\"text-align: right;\">\n      <th></th>\n      <th>id</th>\n      <th>name</th>\n      <th>parent_id</th>\n    </tr>\n  </thead>\n  <tbody>\n    <tr>\n      <th>181</th>\n      <td>216</td>\n      <td>Friends</td>\n      <td>207.0</td>\n    </tr>\n    <tr>\n      <th>402</th>\n      <td>494</td>\n      <td>Friends</td>\n      <td>NaN</td>\n    </tr>\n    <tr>\n      <th>492</th>\n      <td>595</td>\n      <td>Friends</td>\n      <td>591.0</td>\n    </tr>\n  </tbody>\n</table>\n</div>"
     },
     "execution_count": 163,
     "metadata": {},
     "output_type": "execute_result"
    }
   ],
   "source": [
    "themes[themes.name == 'Friends']"
   ],
   "metadata": {
    "collapsed": false,
    "pycharm": {
     "name": "#%%\n"
    }
   }
  },
  {
   "cell_type": "code",
   "execution_count": 165,
   "outputs": [
    {
     "data": {
      "text/plain": "      set_num                          name  year  theme_id  num_parts\n3632   3316-1  Friends Advent Calendar 2012  2012       216        215\n4804  41016-1  Friends Advent Calendar 2013  2013       216        235\n4830  41040-1  Friends Advent Calendar 2014  2014       216        243\n4893  41102-1  Friends Advent Calendar 2015  2015       216        252\n4924  41131-1  Friends Advent Calendar 2016  2016       216        234\n5045  41326-1  Friends Advent Calendar 2017  2017       216        217\n5074  41353-1  Friends Advent Calendar 2018  2018       216        500\n5102  41382-1  Friends Advent Calendar 2019  2019       216        330\n5135  41420-1  Friends Advent Calendar 2020  2020       216        236",
      "text/html": "<div>\n<style scoped>\n    .dataframe tbody tr th:only-of-type {\n        vertical-align: middle;\n    }\n\n    .dataframe tbody tr th {\n        vertical-align: top;\n    }\n\n    .dataframe thead th {\n        text-align: right;\n    }\n</style>\n<table border=\"1\" class=\"dataframe\">\n  <thead>\n    <tr style=\"text-align: right;\">\n      <th></th>\n      <th>set_num</th>\n      <th>name</th>\n      <th>year</th>\n      <th>theme_id</th>\n      <th>num_parts</th>\n    </tr>\n  </thead>\n  <tbody>\n    <tr>\n      <th>3632</th>\n      <td>3316-1</td>\n      <td>Friends Advent Calendar 2012</td>\n      <td>2012</td>\n      <td>216</td>\n      <td>215</td>\n    </tr>\n    <tr>\n      <th>4804</th>\n      <td>41016-1</td>\n      <td>Friends Advent Calendar 2013</td>\n      <td>2013</td>\n      <td>216</td>\n      <td>235</td>\n    </tr>\n    <tr>\n      <th>4830</th>\n      <td>41040-1</td>\n      <td>Friends Advent Calendar 2014</td>\n      <td>2014</td>\n      <td>216</td>\n      <td>243</td>\n    </tr>\n    <tr>\n      <th>4893</th>\n      <td>41102-1</td>\n      <td>Friends Advent Calendar 2015</td>\n      <td>2015</td>\n      <td>216</td>\n      <td>252</td>\n    </tr>\n    <tr>\n      <th>4924</th>\n      <td>41131-1</td>\n      <td>Friends Advent Calendar 2016</td>\n      <td>2016</td>\n      <td>216</td>\n      <td>234</td>\n    </tr>\n    <tr>\n      <th>5045</th>\n      <td>41326-1</td>\n      <td>Friends Advent Calendar 2017</td>\n      <td>2017</td>\n      <td>216</td>\n      <td>217</td>\n    </tr>\n    <tr>\n      <th>5074</th>\n      <td>41353-1</td>\n      <td>Friends Advent Calendar 2018</td>\n      <td>2018</td>\n      <td>216</td>\n      <td>500</td>\n    </tr>\n    <tr>\n      <th>5102</th>\n      <td>41382-1</td>\n      <td>Friends Advent Calendar 2019</td>\n      <td>2019</td>\n      <td>216</td>\n      <td>330</td>\n    </tr>\n    <tr>\n      <th>5135</th>\n      <td>41420-1</td>\n      <td>Friends Advent Calendar 2020</td>\n      <td>2020</td>\n      <td>216</td>\n      <td>236</td>\n    </tr>\n  </tbody>\n</table>\n</div>"
     },
     "execution_count": 165,
     "metadata": {},
     "output_type": "execute_result"
    }
   ],
   "source": [
    "sets[sets.theme_id == 216]"
   ],
   "metadata": {
    "collapsed": false,
    "pycharm": {
     "name": "#%%\n"
    }
   }
  },
  {
   "cell_type": "code",
   "execution_count": 166,
   "outputs": [
    {
     "data": {
      "text/plain": "               set_num                                               name  \\\n844            11908-1  Build Your Own Adventure with Liza Mini-Doll a...   \n1566        18703535-1  Hamster Play Time - Friends Magazine - Polish ...   \n2892           30100-1                                Andrea on the Beach   \n2893           30101-1                                      Skate Boarder   \n2894           30102-1                                               Desk   \n...                ...                                                ...   \n15174  ICECREAMTRUCK-1                                    Ice Cream Truck   \n15509        MOMENTS-1                                       This moments   \n15561    PUPPY-HOUSE-2                                        Puppy House   \n15641     TRUFRIENDS-1                                       Wishing Well   \n15704    WISHINGWELL-1                                       Wishing Well   \n\n       year  theme_id  num_parts  \n844    2015       494         77  \n1566   2016       494         24  \n2892   2012       494         28  \n2893   2012       494         28  \n2894   2012       494         28  \n...     ...       ...        ...  \n15174  2020       494         60  \n15509  2015       494         18  \n15561  2019       494         72  \n15641  2016       494         33  \n15704  2013       494         28  \n\n[398 rows x 5 columns]",
      "text/html": "<div>\n<style scoped>\n    .dataframe tbody tr th:only-of-type {\n        vertical-align: middle;\n    }\n\n    .dataframe tbody tr th {\n        vertical-align: top;\n    }\n\n    .dataframe thead th {\n        text-align: right;\n    }\n</style>\n<table border=\"1\" class=\"dataframe\">\n  <thead>\n    <tr style=\"text-align: right;\">\n      <th></th>\n      <th>set_num</th>\n      <th>name</th>\n      <th>year</th>\n      <th>theme_id</th>\n      <th>num_parts</th>\n    </tr>\n  </thead>\n  <tbody>\n    <tr>\n      <th>844</th>\n      <td>11908-1</td>\n      <td>Build Your Own Adventure with Liza Mini-Doll a...</td>\n      <td>2015</td>\n      <td>494</td>\n      <td>77</td>\n    </tr>\n    <tr>\n      <th>1566</th>\n      <td>18703535-1</td>\n      <td>Hamster Play Time - Friends Magazine - Polish ...</td>\n      <td>2016</td>\n      <td>494</td>\n      <td>24</td>\n    </tr>\n    <tr>\n      <th>2892</th>\n      <td>30100-1</td>\n      <td>Andrea on the Beach</td>\n      <td>2012</td>\n      <td>494</td>\n      <td>28</td>\n    </tr>\n    <tr>\n      <th>2893</th>\n      <td>30101-1</td>\n      <td>Skate Boarder</td>\n      <td>2012</td>\n      <td>494</td>\n      <td>28</td>\n    </tr>\n    <tr>\n      <th>2894</th>\n      <td>30102-1</td>\n      <td>Desk</td>\n      <td>2012</td>\n      <td>494</td>\n      <td>28</td>\n    </tr>\n    <tr>\n      <th>...</th>\n      <td>...</td>\n      <td>...</td>\n      <td>...</td>\n      <td>...</td>\n      <td>...</td>\n    </tr>\n    <tr>\n      <th>15174</th>\n      <td>ICECREAMTRUCK-1</td>\n      <td>Ice Cream Truck</td>\n      <td>2020</td>\n      <td>494</td>\n      <td>60</td>\n    </tr>\n    <tr>\n      <th>15509</th>\n      <td>MOMENTS-1</td>\n      <td>This moments</td>\n      <td>2015</td>\n      <td>494</td>\n      <td>18</td>\n    </tr>\n    <tr>\n      <th>15561</th>\n      <td>PUPPY-HOUSE-2</td>\n      <td>Puppy House</td>\n      <td>2019</td>\n      <td>494</td>\n      <td>72</td>\n    </tr>\n    <tr>\n      <th>15641</th>\n      <td>TRUFRIENDS-1</td>\n      <td>Wishing Well</td>\n      <td>2016</td>\n      <td>494</td>\n      <td>33</td>\n    </tr>\n    <tr>\n      <th>15704</th>\n      <td>WISHINGWELL-1</td>\n      <td>Wishing Well</td>\n      <td>2013</td>\n      <td>494</td>\n      <td>28</td>\n    </tr>\n  </tbody>\n</table>\n<p>398 rows × 5 columns</p>\n</div>"
     },
     "execution_count": 166,
     "metadata": {},
     "output_type": "execute_result"
    }
   ],
   "source": [
    "sets[sets.theme_id == 494]"
   ],
   "metadata": {
    "collapsed": false,
    "pycharm": {
     "name": "#%%\n"
    }
   }
  },
  {
   "cell_type": "code",
   "execution_count": 167,
   "outputs": [
    {
     "data": {
      "text/plain": "     set_num                                  name  year  theme_id  num_parts\n529  10726-1            Stephanie's Horse Carriage  2016       595         58\n530  10727-1                Emma's Ice Cream Truck  2016       595        136\n531  10728-1                      Mia's Vet Clinic  2016       595        182\n549  10746-1                   Mia's Farm Suitcase  2017       595        106\n550  10747-1  Andrea and Stephanie's Beach Holiday  2017       595        143\n551  10748-1                      Emma's Pet Party  2018       595         67\n552  10749-1             Mia's Organic Food Market  2018       595        115\n567  10763-1            Stephanie's Lakeside House  2018       595        215",
      "text/html": "<div>\n<style scoped>\n    .dataframe tbody tr th:only-of-type {\n        vertical-align: middle;\n    }\n\n    .dataframe tbody tr th {\n        vertical-align: top;\n    }\n\n    .dataframe thead th {\n        text-align: right;\n    }\n</style>\n<table border=\"1\" class=\"dataframe\">\n  <thead>\n    <tr style=\"text-align: right;\">\n      <th></th>\n      <th>set_num</th>\n      <th>name</th>\n      <th>year</th>\n      <th>theme_id</th>\n      <th>num_parts</th>\n    </tr>\n  </thead>\n  <tbody>\n    <tr>\n      <th>529</th>\n      <td>10726-1</td>\n      <td>Stephanie's Horse Carriage</td>\n      <td>2016</td>\n      <td>595</td>\n      <td>58</td>\n    </tr>\n    <tr>\n      <th>530</th>\n      <td>10727-1</td>\n      <td>Emma's Ice Cream Truck</td>\n      <td>2016</td>\n      <td>595</td>\n      <td>136</td>\n    </tr>\n    <tr>\n      <th>531</th>\n      <td>10728-1</td>\n      <td>Mia's Vet Clinic</td>\n      <td>2016</td>\n      <td>595</td>\n      <td>182</td>\n    </tr>\n    <tr>\n      <th>549</th>\n      <td>10746-1</td>\n      <td>Mia's Farm Suitcase</td>\n      <td>2017</td>\n      <td>595</td>\n      <td>106</td>\n    </tr>\n    <tr>\n      <th>550</th>\n      <td>10747-1</td>\n      <td>Andrea and Stephanie's Beach Holiday</td>\n      <td>2017</td>\n      <td>595</td>\n      <td>143</td>\n    </tr>\n    <tr>\n      <th>551</th>\n      <td>10748-1</td>\n      <td>Emma's Pet Party</td>\n      <td>2018</td>\n      <td>595</td>\n      <td>67</td>\n    </tr>\n    <tr>\n      <th>552</th>\n      <td>10749-1</td>\n      <td>Mia's Organic Food Market</td>\n      <td>2018</td>\n      <td>595</td>\n      <td>115</td>\n    </tr>\n    <tr>\n      <th>567</th>\n      <td>10763-1</td>\n      <td>Stephanie's Lakeside House</td>\n      <td>2018</td>\n      <td>595</td>\n      <td>215</td>\n    </tr>\n  </tbody>\n</table>\n</div>"
     },
     "execution_count": 167,
     "metadata": {},
     "output_type": "execute_result"
    }
   ],
   "source": [
    "sets[sets.theme_id == 595]"
   ],
   "metadata": {
    "collapsed": false,
    "pycharm": {
     "name": "#%%\n"
    }
   }
  },
  {
   "cell_type": "markdown",
   "source": [
    "Total count: 415. Also seems to only count the primary set.\n",
    "\n",
    "Regardless due to the overwhelming nature of Star Wars' dominance further analysis is not necessary."
   ],
   "metadata": {
    "collapsed": false,
    "pycharm": {
     "name": "#%% md\n"
    }
   }
  }
 ],
 "metadata": {
  "kernelspec": {
   "display_name": "Python 3",
   "language": "python",
   "name": "python3"
  },
  "language_info": {
   "codemirror_mode": {
    "name": "ipython",
    "version": 2
   },
   "file_extension": ".py",
   "mimetype": "text/x-python",
   "name": "python",
   "nbconvert_exporter": "python",
   "pygments_lexer": "ipython2",
   "version": "2.7.6"
  }
 },
 "nbformat": 4,
 "nbformat_minor": 0
}