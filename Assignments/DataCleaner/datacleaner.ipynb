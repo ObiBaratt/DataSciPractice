{
 "cells": [
  {
   "cell_type": "code",
   "execution_count": 51,
   "outputs": [],
   "source": [
    "from __future__ import annotations\n",
    "\n",
    "import numpy as np\n",
    "import pandas as pd\n",
    "\n",
    "from typing import Dict, Any, List"
   ],
   "metadata": {
    "collapsed": false,
    "pycharm": {
     "name": "#%%\n"
    }
   }
  },
  {
   "cell_type": "code",
   "execution_count": 52,
   "outputs": [],
   "source": [
    "class DataCleaner:\n",
    "    \"\"\"\n",
    "    Transform a pandas df while keeping track of the history of transformations to\n",
    "    allow reverting back to earlier state.\n",
    "    \"\"\"\n",
    "    def __init__(self, df: pd.DataFrame):\n",
    "        self.current = df\n",
    "        self.history = [('Initial df', self.current.copy())]\n",
    "\n",
    "    def adjust_dtype(self, types: Dict[str, Any]) -> None:\n",
    "        key = [key for key in types][0]\n",
    "        value = types[key]\n",
    "        self.current[key] = self.current[key].astype(value)\n",
    "        self.history.append((f\"Adjusted dtypes using {types}\", self.current.copy()))\n",
    "\n",
    "    def impute_missing(self, columns: List[str]) -> None:\n",
    "        column_mean = self.current[columns].mean()\n",
    "        self.current.fillna(value=column_mean, inplace=True)\n",
    "        self.history.append((f\"Imputed missing in {columns}\", self.current.copy()))\n",
    "\n",
    "    def revert(self, steps_back: int = 1) -> None:\n",
    "        message = self.history[-steps_back][0]\n",
    "        self.current = self.history[-(steps_back + 1)][1]\n",
    "        self.history = self.history[0:-steps_back]\n",
    "        print(f'Reverting {message}.')\n",
    "\n",
    "    def save(self, path: str) -> None:\n",
    "        self.current.to_pickle(path)\n",
    "\n",
    "    @staticmethod\n",
    "    def load(path: str) -> DataCleaner:\n",
    "        loaded_df = pd.read_pickle(path)\n",
    "        return DataCleaner(loaded_df)"
   ],
   "metadata": {
    "collapsed": false,
    "pycharm": {
     "name": "#%%\n"
    }
   }
  },
  {
   "cell_type": "code",
   "execution_count": 53,
   "outputs": [],
   "source": [
    "transactions = pd.DataFrame(\n",
    "    {\n",
    "        \"customer_id\": [10, 10, 13, 10, 11, 11, 10],\n",
    "        \"amount\": [1.00, 1.31, 20.5, 0.5, 0.2, 0.2, np.nan],\n",
    "        \"timestamp\": [\n",
    "            \"2020-10-08 11:32:01\",\n",
    "            \"2020-10-08 13:45:00\",\n",
    "            \"2020-10-07 05:10:30\",\n",
    "            \"2020-10-08 12:30:00\",\n",
    "            \"2020-10-07 01:29:33\",\n",
    "            \"2020-10-08 13:45:00\",\n",
    "            \"2020-10-09 02:05:21\",\n",
    "        ]\n",
    "    }\n",
    ")"
   ],
   "metadata": {
    "collapsed": false,
    "pycharm": {
     "name": "#%%\n"
    }
   }
  },
  {
   "cell_type": "code",
   "execution_count": 54,
   "outputs": [
    {
     "name": "stdout",
     "output_type": "stream",
     "text": [
      "Current dataframe:\n",
      "   customer_id  amount            timestamp\n",
      "0           10    1.00  2020-10-08 11:32:01\n",
      "1           10    1.31  2020-10-08 13:45:00\n",
      "2           13   20.50  2020-10-07 05:10:30\n",
      "3           10    0.50  2020-10-08 12:30:00\n",
      "4           11    0.20  2020-10-07 01:29:33\n",
      "5           11    0.20  2020-10-08 13:45:00\n",
      "6           10     NaN  2020-10-09 02:05:21\n"
     ]
    }
   ],
   "source": [
    "transactions_dc = DataCleaner(transactions)\n",
    "\n",
    "print(f\"Current dataframe:\\n{transactions_dc.current}\")"
   ],
   "metadata": {
    "collapsed": false,
    "pycharm": {
     "name": "#%%\n"
    }
   }
  },
  {
   "cell_type": "code",
   "execution_count": 55,
   "outputs": [
    {
     "name": "stdout",
     "output_type": "stream",
     "text": [
      "Current dtypes:\n",
      "customer_id      int64\n",
      "amount         float64\n",
      "timestamp       object\n",
      "dtype: object\n"
     ]
    }
   ],
   "source": [
    "print(f\"Current dtypes:\\n{transactions_dc.current.dtypes}\")"
   ],
   "metadata": {
    "collapsed": false,
    "pycharm": {
     "name": "#%%\n"
    }
   }
  },
  {
   "cell_type": "code",
   "execution_count": 56,
   "outputs": [],
   "source": [
    "transactions_dc.adjust_dtype({\"timestamp\": np.datetime64})"
   ],
   "metadata": {
    "collapsed": false,
    "pycharm": {
     "name": "#%%\n"
    }
   }
  },
  {
   "cell_type": "code",
   "execution_count": 57,
   "outputs": [
    {
     "name": "stdout",
     "output_type": "stream",
     "text": [
      "Current dtypes:\n",
      "customer_id             int64\n",
      "amount                float64\n",
      "timestamp      datetime64[ns]\n",
      "dtype: object\n"
     ]
    }
   ],
   "source": [
    "print(f\"Current dtypes:\\n{transactions_dc.current.dtypes}\")"
   ],
   "metadata": {
    "collapsed": false,
    "pycharm": {
     "name": "#%%\n"
    }
   }
  },
  {
   "cell_type": "code",
   "execution_count": 58,
   "outputs": [
    {
     "name": "stdout",
     "output_type": "stream",
     "text": [
      "Imputed missing as overall mean:\n",
      "   customer_id     amount           timestamp\n",
      "0           10   1.000000 2020-10-08 11:32:01\n",
      "1           10   1.310000 2020-10-08 13:45:00\n",
      "2           13  20.500000 2020-10-07 05:10:30\n",
      "3           10   0.500000 2020-10-08 12:30:00\n",
      "4           11   0.200000 2020-10-07 01:29:33\n",
      "5           11   0.200000 2020-10-08 13:45:00\n",
      "6           10   3.951667 2020-10-09 02:05:21\n"
     ]
    }
   ],
   "source": [
    "transactions_dc.impute_missing(columns=[\"amount\"])\n",
    "\n",
    "print(f\"Imputed missing as overall mean:\\n{transactions_dc.current}\")"
   ],
   "metadata": {
    "collapsed": false,
    "pycharm": {
     "name": "#%%\n"
    }
   }
  },
  {
   "cell_type": "code",
   "execution_count": 59,
   "outputs": [
    {
     "name": "stdout",
     "output_type": "stream",
     "text": [
      "History of changes:\n",
      "[('Initial df',    customer_id  amount            timestamp\n",
      "0           10    1.00  2020-10-08 11:32:01\n",
      "1           10    1.31  2020-10-08 13:45:00\n",
      "2           13   20.50  2020-10-07 05:10:30\n",
      "3           10    0.50  2020-10-08 12:30:00\n",
      "4           11    0.20  2020-10-07 01:29:33\n",
      "5           11    0.20  2020-10-08 13:45:00\n",
      "6           10     NaN  2020-10-09 02:05:21), (\"Adjusted dtypes using {'timestamp': <class 'numpy.datetime64'>}\",    customer_id  amount           timestamp\n",
      "0           10    1.00 2020-10-08 11:32:01\n",
      "1           10    1.31 2020-10-08 13:45:00\n",
      "2           13   20.50 2020-10-07 05:10:30\n",
      "3           10    0.50 2020-10-08 12:30:00\n",
      "4           11    0.20 2020-10-07 01:29:33\n",
      "5           11    0.20 2020-10-08 13:45:00\n",
      "6           10     NaN 2020-10-09 02:05:21), (\"Imputed missing in ['amount']\",    customer_id     amount           timestamp\n",
      "0           10   1.000000 2020-10-08 11:32:01\n",
      "1           10   1.310000 2020-10-08 13:45:00\n",
      "2           13  20.500000 2020-10-07 05:10:30\n",
      "3           10   0.500000 2020-10-08 12:30:00\n",
      "4           11   0.200000 2020-10-07 01:29:33\n",
      "5           11   0.200000 2020-10-08 13:45:00\n",
      "6           10   3.951667 2020-10-09 02:05:21)]\n"
     ]
    }
   ],
   "source": [
    "print(f\"History of changes:\\n{transactions_dc.history}\")"
   ],
   "metadata": {
    "collapsed": false,
    "pycharm": {
     "name": "#%%\n"
    }
   }
  },
  {
   "cell_type": "code",
   "execution_count": 60,
   "outputs": [
    {
     "name": "stdout",
     "output_type": "stream",
     "text": [
      "Loaded DataCleaner current df:\n",
      "   customer_id     amount           timestamp\n",
      "0           10   1.000000 2020-10-08 11:32:01\n",
      "1           10   1.310000 2020-10-08 13:45:00\n",
      "2           13  20.500000 2020-10-07 05:10:30\n",
      "3           10   0.500000 2020-10-08 12:30:00\n",
      "4           11   0.200000 2020-10-07 01:29:33\n",
      "5           11   0.200000 2020-10-08 13:45:00\n",
      "6           10   3.951667 2020-10-09 02:05:21\n"
     ]
    }
   ],
   "source": [
    "transactions_dc.save(\"transactions\")\n",
    "loaded_dc = DataCleaner.load(\"transactions\")\n",
    "print(f\"Loaded DataCleaner current df:\\n{loaded_dc.current}\")"
   ],
   "metadata": {
    "collapsed": false,
    "pycharm": {
     "name": "#%%\n"
    }
   }
  },
  {
   "cell_type": "code",
   "execution_count": 61,
   "outputs": [
    {
     "name": "stdout",
     "output_type": "stream",
     "text": [
      "Reverting Imputed missing in ['amount'].\n",
      "Reverting missing value imputation:\n",
      "   customer_id  amount           timestamp\n",
      "0           10    1.00 2020-10-08 11:32:01\n",
      "1           10    1.31 2020-10-08 13:45:00\n",
      "2           13   20.50 2020-10-07 05:10:30\n",
      "3           10    0.50 2020-10-08 12:30:00\n",
      "4           11    0.20 2020-10-07 01:29:33\n",
      "5           11    0.20 2020-10-08 13:45:00\n",
      "6           10     NaN 2020-10-09 02:05:21\n"
     ]
    }
   ],
   "source": [
    "transactions_dc.revert()\n",
    "print(f\"Reverting missing value imputation:\\n{transactions_dc.current}\")"
   ],
   "metadata": {
    "collapsed": false,
    "pycharm": {
     "name": "#%%\n"
    }
   }
  },
  {
   "cell_type": "code",
   "execution_count": 62,
   "outputs": [
    {
     "data": {
      "text/plain": "[('Initial df',\n     customer_id  amount            timestamp\n  0           10    1.00  2020-10-08 11:32:01\n  1           10    1.31  2020-10-08 13:45:00\n  2           13   20.50  2020-10-07 05:10:30\n  3           10    0.50  2020-10-08 12:30:00\n  4           11    0.20  2020-10-07 01:29:33\n  5           11    0.20  2020-10-08 13:45:00\n  6           10     NaN  2020-10-09 02:05:21),\n (\"Adjusted dtypes using {'timestamp': <class 'numpy.datetime64'>}\",\n     customer_id  amount           timestamp\n  0           10    1.00 2020-10-08 11:32:01\n  1           10    1.31 2020-10-08 13:45:00\n  2           13   20.50 2020-10-07 05:10:30\n  3           10    0.50 2020-10-08 12:30:00\n  4           11    0.20 2020-10-07 01:29:33\n  5           11    0.20 2020-10-08 13:45:00\n  6           10     NaN 2020-10-09 02:05:21)]"
     },
     "execution_count": 62,
     "metadata": {},
     "output_type": "execute_result"
    }
   ],
   "source": [
    "transactions_dc.history"
   ],
   "metadata": {
    "collapsed": false,
    "pycharm": {
     "name": "#%%\n"
    }
   }
  },
  {
   "cell_type": "code",
   "execution_count": 63,
   "outputs": [
    {
     "name": "stdout",
     "output_type": "stream",
     "text": [
      "Reverting Adjusted dtypes using {'timestamp': <class 'numpy.datetime64'>}.\n"
     ]
    }
   ],
   "source": [
    "transactions_dc.revert()\n"
   ],
   "metadata": {
    "collapsed": false,
    "pycharm": {
     "name": "#%%\n"
    }
   }
  },
  {
   "cell_type": "code",
   "execution_count": 64,
   "outputs": [
    {
     "data": {
      "text/plain": "[('Initial df',\n     customer_id  amount            timestamp\n  0           10    1.00  2020-10-08 11:32:01\n  1           10    1.31  2020-10-08 13:45:00\n  2           13   20.50  2020-10-07 05:10:30\n  3           10    0.50  2020-10-08 12:30:00\n  4           11    0.20  2020-10-07 01:29:33\n  5           11    0.20  2020-10-08 13:45:00\n  6           10     NaN  2020-10-09 02:05:21)]"
     },
     "execution_count": 64,
     "metadata": {},
     "output_type": "execute_result"
    }
   ],
   "source": [
    "transactions_dc.history"
   ],
   "metadata": {
    "collapsed": false,
    "pycharm": {
     "name": "#%%\n"
    }
   }
  }
 ],
 "metadata": {
  "kernelspec": {
   "display_name": "Python 3",
   "language": "python",
   "name": "python3"
  },
  "language_info": {
   "codemirror_mode": {
    "name": "ipython",
    "version": 2
   },
   "file_extension": ".py",
   "mimetype": "text/x-python",
   "name": "python",
   "nbconvert_exporter": "python",
   "pygments_lexer": "ipython2",
   "version": "2.7.6"
  }
 },
 "nbformat": 4,
 "nbformat_minor": 0
}